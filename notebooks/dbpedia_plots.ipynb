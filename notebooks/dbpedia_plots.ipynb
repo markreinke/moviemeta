{
 "cells": [
  {
   "cell_type": "markdown",
   "metadata": {},
   "source": [
    "# DBPedia Mining to get Movie Metadata\n",
    "\n",
    "\n",
    "We use SPARQL queries to get dbpedia metadata for movies released in a year. Then the plot summaries are scraped from Wikipedia for each of these movies.\n"
   ]
  },
  {
   "cell_type": "code",
   "execution_count": 7,
   "metadata": {
    "collapsed": false
   },
   "outputs": [],
   "source": [
    "from SPARQLWrapper import SPARQLWrapper, JSON\n",
    "import pandas as pd\n",
    "\n",
    "movies_for_year_query = \"\"\"\n",
    "                PREFIX dbpont: <http://dbpedia.org/ontology/>\n",
    "                PREFIX dbpprop: <http://dbpedia.org/property/>\n",
    "                PREFIX dbres: <http://dbpedia.org/resource/>\n",
    "                PREFIX dbc: <http://dbpedia.org/resource/Category:>\n",
    "                PREFIX foaf: <http://xmlns.com/foaf/0.1/>\n",
    "                PREFIX dcterms: <http://purl.org/dc/terms/>\n",
    "\n",
    "                SELECT DISTINCT ?title \n",
    "                       (group_concat(distinct ?language;separator=\", \") as ?languages) \n",
    "                       (group_concat(distinct ?country;separator=\", \") as ?countries) \n",
    "                       ?released\n",
    "                       ?gross\n",
    "                       ?comment\n",
    "                       ?abstract\n",
    "                       (?movie as ?dbpediaLink)\n",
    "                       ?wikipediaLink\n",
    "                WHERE\n",
    "                {\n",
    "                        ?movie rdf:type dbpont:Film .\n",
    "                        ?movie rdfs:label ?title .\n",
    "                        ?movie rdfs:comment ?comment .\n",
    "                        ?movie dbpont:abstract ?abstract .\n",
    "                        ?movie dcterms:subject dbc:%(year)s_films . \n",
    "                        OPTIONAL { ?movie dbpprop:released ?released }\n",
    "                        OPTIONAL { ?movie dbpprop:country ?country } \n",
    "                        OPTIONAL { ?movie dbpont:gross ?gross }\n",
    "                        OPTIONAL { ?movie dbpprop:language ?language }\n",
    "                        OPTIONAL { ?movie foaf:isPrimaryTopicOf ?wikipediaLink }\n",
    "\n",
    "                        FILTER (lang(?title) = 'en')\n",
    "                        FILTER (lang(?abstract) = 'en')\n",
    "                        FILTER (lang(?comment) = 'en')\n",
    "                }\n",
    "                \"\"\"\n",
    "\n",
    "def sparql_json_to_df(results, year):\n",
    "    movie_dicts = []\n",
    "\n",
    "    for movie in results['results']['bindings']:\n",
    "        title = movie['title']['value']\n",
    "        languages = movie.get('languages', None)\n",
    "        if(languages):\n",
    "            languages = languages['value']\n",
    "        countries = movie.get('countries', None)\n",
    "        if(countries):\n",
    "            countries = countries['value']\n",
    "        released = movie.get('released', None)\n",
    "        if(released):\n",
    "            released = released['value']\n",
    "        gross = movie.get('gross', None)\n",
    "        if(gross):\n",
    "            gross = gross['value']\n",
    "        comment = movie.get('comment', None)\n",
    "        if(comment):\n",
    "            comment = comment['value']\n",
    "        abstract = movie.get('abstract', None)\n",
    "        if(abstract):\n",
    "            abstract = abstract['value']\n",
    "        dbpediaLink = movie.get('dbpediaLink', None)\n",
    "        if(dbpediaLink):\n",
    "            dbpediaLink = dbpediaLink['value']\n",
    "        wikipediaLink = movie.get('wikipediaLink', None)\n",
    "        if(wikipediaLink):\n",
    "            wikipediaLink = wikipediaLink['value']\n",
    "\n",
    "        movie_dicts.append({'year':year,\n",
    "                            'title':title,\n",
    "                            'languages':languages,\n",
    "                            'countries':countries,\n",
    "                            'released':released,\n",
    "                            'gross':gross,\n",
    "                            'comment':comment,\n",
    "                            'abstract':abstract,\n",
    "                            'dbpediaLink':dbpediaLink,\n",
    "                            'wikipediaLink':wikipediaLink})\n",
    "\n",
    "    df = pd.DataFrame(movie_dicts, columns=['year'] + results['head']['vars'])\n",
    "    return(df)\n",
    "\n",
    "def get_dbpedia_data_for_year(year):\n",
    "    sparql = SPARQLWrapper(\"http://dbpedia.org/sparql\")\n",
    "    sparql.setQuery(movies_for_year_query % {'year': str(year)})\n",
    "    sparql.setReturnFormat(JSON)\n",
    "    results = sparql.query().convert()\n",
    "    year_df = sparql_json_to_df(results, year)\n",
    "    return(year_df)\n"
   ]
  },
  {
   "cell_type": "code",
   "execution_count": 8,
   "metadata": {
    "collapsed": false
   },
   "outputs": [],
   "source": [
    "years = range(2000, 2016)"
   ]
  },
  {
   "cell_type": "code",
   "execution_count": 13,
   "metadata": {
    "collapsed": false
   },
   "outputs": [
    {
     "name": "stdout",
     "output_type": "stream",
     "text": [
      "('1171', ' records for the year ', '2000', 'written to ', 'dbpedia_meta_2000.csv')\n",
      "('1212', ' records for the year ', '2001', 'written to ', 'dbpedia_meta_2001.csv')\n",
      "('1257', ' records for the year ', '2002', 'written to ', 'dbpedia_meta_2002.csv')\n",
      "('1374', ' records for the year ', '2003', 'written to ', 'dbpedia_meta_2003.csv')\n",
      "('1499', ' records for the year ', '2004', 'written to ', 'dbpedia_meta_2004.csv')\n",
      "('1622', ' records for the year ', '2005', 'written to ', 'dbpedia_meta_2005.csv')\n",
      "('1900', ' records for the year ', '2006', 'written to ', 'dbpedia_meta_2006.csv')\n",
      "('1970', ' records for the year ', '2007', 'written to ', 'dbpedia_meta_2007.csv')\n",
      "('2012', ' records for the year ', '2008', 'written to ', 'dbpedia_meta_2008.csv')\n",
      "('2135', ' records for the year ', '2009', 'written to ', 'dbpedia_meta_2009.csv')\n",
      "('1991', ' records for the year ', '2010', 'written to ', 'dbpedia_meta_2010.csv')\n",
      "('1960', ' records for the year ', '2011', 'written to ', 'dbpedia_meta_2011.csv')\n",
      "('2034', ' records for the year ', '2012', 'written to ', 'dbpedia_meta_2012.csv')\n",
      "('2114', ' records for the year ', '2013', 'written to ', 'dbpedia_meta_2013.csv')\n",
      "('1929', ' records for the year ', '2014', 'written to ', 'dbpedia_meta_2014.csv')\n",
      "('476', ' records for the year ', '2015', 'written to ', 'dbpedia_meta_2015.csv')\n"
     ]
    }
   ],
   "source": [
    "import time\n",
    "\n",
    "for year in years:\n",
    "    dbp_df = get_dbpedia_data_for_year(year)\n",
    "    csv_filename = \"dbpedia_meta_\" + str(year) + \".csv\"\n",
    "    dbp_df.to_csv(csv_filename, sep='\\t', encoding='utf-8')\n",
    "    print(str(len(dbp_df)), \" records for the year \", str(year), \"written to \", csv_filename)\n",
    "    time.sleep(1)\n"
   ]
  },
  {
   "cell_type": "code",
   "execution_count": null,
   "metadata": {
    "collapsed": true
   },
   "outputs": [],
   "source": []
  }
 ],
 "metadata": {
  "kernelspec": {
   "display_name": "Python 2",
   "language": "python",
   "name": "python2"
  },
  "language_info": {
   "codemirror_mode": {
    "name": "ipython",
    "version": 2
   },
   "file_extension": ".py",
   "mimetype": "text/x-python",
   "name": "python",
   "nbconvert_exporter": "python",
   "pygments_lexer": "ipython2",
   "version": "2.7.10"
  }
 },
 "nbformat": 4,
 "nbformat_minor": 0
}
