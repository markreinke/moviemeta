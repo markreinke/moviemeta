{
 "cells": [
  {
   "cell_type": "code",
   "execution_count": 33,
   "metadata": {
    "collapsed": true
   },
   "outputs": [],
   "source": [
    "from gensim import corpora, models, similarities, matutils\n",
    "import itertools\n",
    "import numpy as np\n",
    "import pandas as pd"
   ]
  },
  {
   "cell_type": "code",
   "execution_count": 2,
   "metadata": {
    "collapsed": true
   },
   "outputs": [],
   "source": [
    "dropbox = \"/Users/mr/Dropbox/moviemeta/\""
   ]
  },
  {
   "cell_type": "code",
   "execution_count": 14,
   "metadata": {
    "collapsed": false
   },
   "outputs": [],
   "source": [
    "lda = models.LdaModel.load(dropbox +'lda_imdb_2015.model')\n",
    "corpus = corpora.MmCorpus(dropbox +'lda_imdb_2015.corpus')\n",
    "dictionary = corpora.Dictionary.load(dropbox +'lda_imdb_2015.dict')\n",
    "with open(dropbox +'imdb_movies_since_2014.pickle', 'rb') as f:\n",
    "    movies = np.load(f)"
   ]
  },
  {
   "cell_type": "code",
   "execution_count": 74,
   "metadata": {
    "collapsed": false
   },
   "outputs": [],
   "source": [
    "topic_matrix = matutils.corpus2dense(lda[corpus], num_terms=20)\n",
    "topic_df = pd.DataFrame(np.ndarray.transpose(topic_matrix))\n",
    "topic_df['movie_title'] = pd.Series(movies, index=topic_df.index)"
   ]
  },
  {
   "cell_type": "markdown",
   "metadata": {},
   "source": [
    "Now we have created a dataframe with the topic distribution for every movie. We have 20 topics, columns 0 - 19. The values represent how prominently a topic features in a movie."
   ]
  },
  {
   "cell_type": "code",
   "execution_count": 84,
   "metadata": {
    "collapsed": false
   },
   "outputs": [
    {
     "data": {
      "text/html": [
       "<div>\n",
       "<table border=\"1\" class=\"dataframe\">\n",
       "  <thead>\n",
       "    <tr style=\"text-align: right;\">\n",
       "      <th></th>\n",
       "      <th>0</th>\n",
       "      <th>1</th>\n",
       "      <th>2</th>\n",
       "      <th>3</th>\n",
       "      <th>4</th>\n",
       "      <th>5</th>\n",
       "      <th>6</th>\n",
       "      <th>7</th>\n",
       "      <th>8</th>\n",
       "      <th>9</th>\n",
       "      <th>...</th>\n",
       "      <th>11</th>\n",
       "      <th>12</th>\n",
       "      <th>13</th>\n",
       "      <th>14</th>\n",
       "      <th>15</th>\n",
       "      <th>16</th>\n",
       "      <th>17</th>\n",
       "      <th>18</th>\n",
       "      <th>19</th>\n",
       "      <th>movie_title</th>\n",
       "    </tr>\n",
       "  </thead>\n",
       "  <tbody>\n",
       "    <tr>\n",
       "      <th>0</th>\n",
       "      <td>0</td>\n",
       "      <td>0</td>\n",
       "      <td>0.482269</td>\n",
       "      <td>0.000</td>\n",
       "      <td>0.000000</td>\n",
       "      <td>0.000000</td>\n",
       "      <td>0.000000</td>\n",
       "      <td>0.177444</td>\n",
       "      <td>0.000000</td>\n",
       "      <td>0.000000</td>\n",
       "      <td>...</td>\n",
       "      <td>0.000000</td>\n",
       "      <td>0</td>\n",
       "      <td>0.000000</td>\n",
       "      <td>0</td>\n",
       "      <td>0.000000</td>\n",
       "      <td>0</td>\n",
       "      <td>0.000000</td>\n",
       "      <td>0.000000</td>\n",
       "      <td>0.283620</td>\n",
       "      <td>#1 at the Apocalypse Box Office (2015)</td>\n",
       "    </tr>\n",
       "    <tr>\n",
       "      <th>1</th>\n",
       "      <td>0</td>\n",
       "      <td>0</td>\n",
       "      <td>0.000000</td>\n",
       "      <td>0.039</td>\n",
       "      <td>0.000000</td>\n",
       "      <td>0.000000</td>\n",
       "      <td>0.000000</td>\n",
       "      <td>0.000000</td>\n",
       "      <td>0.078759</td>\n",
       "      <td>0.569357</td>\n",
       "      <td>...</td>\n",
       "      <td>0.173276</td>\n",
       "      <td>0</td>\n",
       "      <td>0.000000</td>\n",
       "      <td>0</td>\n",
       "      <td>0.041973</td>\n",
       "      <td>0</td>\n",
       "      <td>0.000000</td>\n",
       "      <td>0.084173</td>\n",
       "      <td>0.000000</td>\n",
       "      <td>#50Fathers (2015)</td>\n",
       "    </tr>\n",
       "    <tr>\n",
       "      <th>2</th>\n",
       "      <td>0</td>\n",
       "      <td>0</td>\n",
       "      <td>0.000000</td>\n",
       "      <td>0.000</td>\n",
       "      <td>0.077895</td>\n",
       "      <td>0.000000</td>\n",
       "      <td>0.228392</td>\n",
       "      <td>0.000000</td>\n",
       "      <td>0.214340</td>\n",
       "      <td>0.000000</td>\n",
       "      <td>...</td>\n",
       "      <td>0.000000</td>\n",
       "      <td>0</td>\n",
       "      <td>0.000000</td>\n",
       "      <td>0</td>\n",
       "      <td>0.000000</td>\n",
       "      <td>0</td>\n",
       "      <td>0.459374</td>\n",
       "      <td>0.000000</td>\n",
       "      <td>0.000000</td>\n",
       "      <td>#BeRobin the Movie (2015)</td>\n",
       "    </tr>\n",
       "    <tr>\n",
       "      <th>3</th>\n",
       "      <td>0</td>\n",
       "      <td>0</td>\n",
       "      <td>0.000000</td>\n",
       "      <td>0.000</td>\n",
       "      <td>0.000000</td>\n",
       "      <td>0.092356</td>\n",
       "      <td>0.000000</td>\n",
       "      <td>0.267722</td>\n",
       "      <td>0.330263</td>\n",
       "      <td>0.000000</td>\n",
       "      <td>...</td>\n",
       "      <td>0.000000</td>\n",
       "      <td>0</td>\n",
       "      <td>0.298392</td>\n",
       "      <td>0</td>\n",
       "      <td>0.000000</td>\n",
       "      <td>0</td>\n",
       "      <td>0.000000</td>\n",
       "      <td>0.000000</td>\n",
       "      <td>0.000000</td>\n",
       "      <td>#Beings (2015)</td>\n",
       "    </tr>\n",
       "    <tr>\n",
       "      <th>4</th>\n",
       "      <td>0</td>\n",
       "      <td>0</td>\n",
       "      <td>0.000000</td>\n",
       "      <td>0.000</td>\n",
       "      <td>0.214896</td>\n",
       "      <td>0.000000</td>\n",
       "      <td>0.000000</td>\n",
       "      <td>0.000000</td>\n",
       "      <td>0.000000</td>\n",
       "      <td>0.538686</td>\n",
       "      <td>...</td>\n",
       "      <td>0.000000</td>\n",
       "      <td>0</td>\n",
       "      <td>0.000000</td>\n",
       "      <td>0</td>\n",
       "      <td>0.000000</td>\n",
       "      <td>0</td>\n",
       "      <td>0.000000</td>\n",
       "      <td>0.000000</td>\n",
       "      <td>0.211001</td>\n",
       "      <td>#Disneyland60 (2015)</td>\n",
       "    </tr>\n",
       "  </tbody>\n",
       "</table>\n",
       "<p>5 rows × 21 columns</p>\n",
       "</div>"
      ],
      "text/plain": [
       "   0  1         2      3         4         5         6         7         8  \\\n",
       "0  0  0  0.482269  0.000  0.000000  0.000000  0.000000  0.177444  0.000000   \n",
       "1  0  0  0.000000  0.039  0.000000  0.000000  0.000000  0.000000  0.078759   \n",
       "2  0  0  0.000000  0.000  0.077895  0.000000  0.228392  0.000000  0.214340   \n",
       "3  0  0  0.000000  0.000  0.000000  0.092356  0.000000  0.267722  0.330263   \n",
       "4  0  0  0.000000  0.000  0.214896  0.000000  0.000000  0.000000  0.000000   \n",
       "\n",
       "          9                   ...                          11  12        13  \\\n",
       "0  0.000000                   ...                    0.000000   0  0.000000   \n",
       "1  0.569357                   ...                    0.173276   0  0.000000   \n",
       "2  0.000000                   ...                    0.000000   0  0.000000   \n",
       "3  0.000000                   ...                    0.000000   0  0.298392   \n",
       "4  0.538686                   ...                    0.000000   0  0.000000   \n",
       "\n",
       "   14        15  16        17        18        19  \\\n",
       "0   0  0.000000   0  0.000000  0.000000  0.283620   \n",
       "1   0  0.041973   0  0.000000  0.084173  0.000000   \n",
       "2   0  0.000000   0  0.459374  0.000000  0.000000   \n",
       "3   0  0.000000   0  0.000000  0.000000  0.000000   \n",
       "4   0  0.000000   0  0.000000  0.000000  0.211001   \n",
       "\n",
       "                              movie_title  \n",
       "0  #1 at the Apocalypse Box Office (2015)  \n",
       "1                       #50Fathers (2015)  \n",
       "2               #BeRobin the Movie (2015)  \n",
       "3                          #Beings (2015)  \n",
       "4                    #Disneyland60 (2015)  \n",
       "\n",
       "[5 rows x 21 columns]"
      ]
     },
     "execution_count": 84,
     "metadata": {},
     "output_type": "execute_result"
    }
   ],
   "source": [
    "topic_df.head()"
   ]
  },
  {
   "cell_type": "code",
   "execution_count": 85,
   "metadata": {
    "collapsed": false
   },
   "outputs": [
    {
     "data": {
      "text/plain": [
       "[u'0.009*zombi + 0.009*japanes + 0.008*camp + 0.007*surviv + 0.007*human + 0.006*medic + 0.004*patient + 0.004*diseas + 0.004*scientist + 0.004*death',\n",
       " u'0.006*novel + 0.005*club + 0.005*master + 0.005*plan + 0.004*villag + 0.004*night + 0.004*play + 0.004*love + 0.004*write + 0.004*chang',\n",
       " u'0.015*war + 0.010*human + 0.007*earth + 0.006*surviv + 0.006*race + 0.006*journey + 0.006*american + 0.006*forc + 0.005*fight + 0.005*anim',\n",
       " u'0.012*friend + 0.009*play + 0.009*comedi + 0.007*love + 0.005*start + 0.005*relationship + 0.005*girl + 0.005*parti + 0.004*charact + 0.004*success',\n",
       " u'0.011*documentari + 0.011*citi + 0.008*histori + 0.007*rock + 0.006*industri + 0.006*activist + 0.005*right + 0.005*band + 0.005*punk + 0.005*includ',\n",
       " u'0.039*love + 0.014*relationship + 0.010*woman + 0.010*marri + 0.009*famili + 0.008*coupl + 0.007*fall + 0.007*marriag + 0.007*decid + 0.006*dream',\n",
       " u'0.030*music + 0.018*artist + 0.015*art + 0.009*perform + 0.007*record + 0.006*musician + 0.006*creat + 0.006*inspir + 0.006*talent + 0.005*song',\n",
       " u'0.015*friend + 0.008*girl + 0.008*help + 0.007*plan + 0.007*decid + 0.006*job + 0.006*start + 0.006*town + 0.006*night + 0.006*boy',\n",
       " u'0.009*food + 0.008*island + 0.008*blue + 0.005*farm + 0.005*begin + 0.004*love + 0.004*travel + 0.004*citi + 0.004*gener + 0.004*past',\n",
       " u'0.013*student + 0.012*school + 0.010*drug + 0.008*colleg + 0.007*teacher + 0.007*fight + 0.006*agent + 0.005*struggl + 0.005*money + 0.005*hors',\n",
       " u'0.015*friend + 0.011*night + 0.010*stranger + 0.008*begin + 0.008*hous + 0.008*mysteri + 0.006*love + 0.005*themselv + 0.005*realiti + 0.005*church',\n",
       " u'0.008*famili + 0.006*begin + 0.006*monster + 0.005*discov + 0.005*question + 0.005*strang + 0.005*experi + 0.005*light + 0.004*tri + 0.004*student',\n",
       " u'0.010*prison + 0.009*team + 0.007*train + 0.007*school + 0.006*coach + 0.006*former + 0.006*unit + 0.005*championship + 0.005*match + 0.005*forc',\n",
       " u'0.014*father + 0.013*famili + 0.010*mother + 0.010*love + 0.008*tri + 0.007*struggl + 0.007*past + 0.007*son + 0.007*brother + 0.007*girl',\n",
       " u'0.017*kill + 0.016*murder + 0.011*mysteri + 0.010*killer + 0.010*investig + 0.009*detect + 0.009*dark + 0.008*death + 0.008*secret + 0.007*town',\n",
       " u'0.007*witch + 0.006*god + 0.006*daughter + 0.006*king + 0.006*wife + 0.005*cave + 0.005*town + 0.005*flee + 0.005*queen + 0.005*drag',\n",
       " u'0.008*friend + 0.006*love + 0.006*leav + 0.005*forc + 0.005*chang + 0.005*tri + 0.005*home + 0.005*night + 0.004*tale + 0.004*relationship',\n",
       " u'0.012*famili + 0.006*father + 0.006*friend + 0.005*run + 0.005*person + 0.005*son + 0.004*home + 0.004*daughter + 0.004*help + 0.004*law',\n",
       " u'0.012*game + 0.012*women + 0.008*histori + 0.005*video + 0.005*origin + 0.005*histor + 0.005*water + 0.005*social + 0.005*basebal + 0.005*book',\n",
       " u'0.014*documentari + 0.007*explor + 0.007*movi + 0.007*featur + 0.006*short + 0.005*person + 0.005*danc + 0.005*journey + 0.005*cultur + 0.005*charact']"
      ]
     },
     "execution_count": 85,
     "metadata": {},
     "output_type": "execute_result"
    }
   ],
   "source": [
    "lda.print_topics(20)"
   ]
  },
  {
   "cell_type": "code",
   "execution_count": null,
   "metadata": {
    "collapsed": true
   },
   "outputs": [],
   "source": []
  }
 ],
 "metadata": {
  "kernelspec": {
   "display_name": "Python 2",
   "language": "python",
   "name": "python2"
  },
  "language_info": {
   "codemirror_mode": {
    "name": "ipython",
    "version": 2
   },
   "file_extension": ".py",
   "mimetype": "text/x-python",
   "name": "python",
   "nbconvert_exporter": "python",
   "pygments_lexer": "ipython2",
   "version": "2.7.10"
  }
 },
 "nbformat": 4,
 "nbformat_minor": 0
}
