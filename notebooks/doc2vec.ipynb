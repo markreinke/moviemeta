{
 "cells": [
  {
   "cell_type": "code",
   "execution_count": 1,
   "metadata": {
    "collapsed": true
   },
   "outputs": [],
   "source": [
    "import pandas as pd\n",
    "import numpy as np\n",
    "from gensim import models, corpora\n",
    "import pickle\n",
    "from ast import literal_eval"
   ]
  },
  {
   "cell_type": "code",
   "execution_count": 2,
   "metadata": {
    "collapsed": true
   },
   "outputs": [],
   "source": [
    "dropbox = \"/Users/mr/Dropbox/moviemeta/\""
   ]
  },
  {
   "cell_type": "code",
   "execution_count": 69,
   "metadata": {
    "collapsed": false
   },
   "outputs": [],
   "source": [
    "documents = np.load(dropbox + 'imdb_plots_since_2014_d2v.pickle')"
   ]
  },
  {
   "cell_type": "code",
   "execution_count": null,
   "metadata": {
    "collapsed": true
   },
   "outputs": [],
   "source": [
    "sents=[]\n",
    "for doc in documents:\n",
    "    for sent in doc:\n",
    "        sents.append(sent)\n",
    "d2v = models.Doc2Vec(sents, dbow_words=1)\n",
    "# should really be an iterator but couldn't get it to work\n",
    "#def itersents(docs):\n",
    "#    for doc in docs:\n",
    "#        for sent in doc:\n",
    "#            yield sent"
   ]
  },
  {
   "cell_type": "code",
   "execution_count": 83,
   "metadata": {
    "collapsed": false
   },
   "outputs": [
    {
     "name": "stdout",
     "output_type": "stream",
     "text": [
      "['#1 at the Apocalypse Box Office (2015)']\n"
     ]
    },
    {
     "data": {
      "text/plain": [
       "[('Tracing Outlines (2015)', 0.20295196771621704),\n",
       " ('Warped! (2016)', 0.19414910674095154),\n",
       " ('We Vault (2015)', 0.18911390006542206),\n",
       " ('Um Homem S\\xf3 (2015)', 0.1787264347076416),\n",
       " ('Effloresce (2015)', 0.17776648700237274),\n",
       " ('10 Milliarden (2015)', 0.17670276761054993),\n",
       " ('Glamour Boys of NYC (2015)', 0.17613360285758972),\n",
       " ('Zero Organism (2016)', 0.17454853653907776),\n",
       " ('Sanskriti (2015)', 0.17271117866039276),\n",
       " ('The Book of Emmanuel (2015)', 0.17206630110740662)]"
      ]
     },
     "execution_count": 83,
     "metadata": {},
     "output_type": "execute_result"
    }
   ],
   "source": [
    "movie = sents[0][1]\n",
    "print movie\n",
    "d2v.docvecs.most_similar(movie)"
   ]
  },
  {
   "cell_type": "code",
   "execution_count": null,
   "metadata": {
    "collapsed": true
   },
   "outputs": [],
   "source": []
  }
 ],
 "metadata": {
  "kernelspec": {
   "display_name": "Python 2",
   "language": "python",
   "name": "python2"
  },
  "language_info": {
   "codemirror_mode": {
    "name": "ipython",
    "version": 2
   },
   "file_extension": ".py",
   "mimetype": "text/x-python",
   "name": "python",
   "nbconvert_exporter": "python",
   "pygments_lexer": "ipython2",
   "version": "2.7.10"
  }
 },
 "nbformat": 4,
 "nbformat_minor": 0
}
