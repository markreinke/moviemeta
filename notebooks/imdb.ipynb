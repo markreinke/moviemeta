{
 "cells": [
  {
   "cell_type": "markdown",
   "metadata": {},
   "source": [
    "<h1 align='center'>Data collection from IMDB</h1>\n",
    "\n",
    "We downloaded a list of movie plots from the Internet Movie Database (IMDB). We parse the data and collect in a data frame.\n",
    "\n",
    "<hr>"
   ]
  },
  {
   "cell_type": "code",
   "execution_count": 1,
   "metadata": {
    "collapsed": true
   },
   "outputs": [],
   "source": [
    "import pandas as pd\n",
    "import numpy as np\n",
    "import urllib2 \n",
    "import matplotlib as mpl\n",
    "import matplotlib.cm as cm\n",
    "import matplotlib.pyplot as plt\n",
    "%matplotlib inline\n",
    "import seaborn as sns"
   ]
  },
  {
   "cell_type": "code",
   "execution_count": 2,
   "metadata": {
    "collapsed": true
   },
   "outputs": [],
   "source": [
    "# TODO: download from URL\n",
    "dropbox = \"/Users/mr/Dropbox/moviemeta/\""
   ]
  },
  {
   "cell_type": "code",
   "execution_count": 10,
   "metadata": {
    "collapsed": false
   },
   "outputs": [
    {
     "name": "stdout",
     "output_type": "stream",
     "text": [
      "6855909\n"
     ]
    }
   ],
   "source": [
    "with open(dropbox + \"imdb/plot.list\") as f:\n",
    "    plots = f.readlines()\n",
    "print len(plots)"
   ]
  },
  {
   "cell_type": "markdown",
   "metadata": {},
   "source": [
    "There are almost 7 million lines of text in this data set of plots from movies and TV series. The data will be significantly reduced though, as we will not collect plots of TV series."
   ]
  },
  {
   "cell_type": "code",
   "execution_count": 8,
   "metadata": {
    "collapsed": false
   },
   "outputs": [],
   "source": [
    "plotlist = []\n",
    "nextMovie = False\n",
    "plot = []\n",
    "revplots = []\n",
    "nextPlot = True\n",
    "by = False\n",
    "for line in plots:\n",
    "    #The titles that start with double quotes are TV shows, exclude them\n",
    "    if line[:2] == 'MV' and line[4] == '\"':\n",
    "        nextMovie = False\n",
    "        continue\n",
    "    if line[:2] == 'MV':\n",
    "        title = line[4:-1]\n",
    "        # extract the year from the movie title \n",
    "        i = title.find('(')\n",
    "        j = title.find(')')\n",
    "        if i > 0 and j > 0:\n",
    "            year = title[i+1:j]\n",
    "        nextMovie = True\n",
    "    if nextMovie == True:\n",
    "        revplots = []\n",
    "        #instantiate a dict for the next movie\n",
    "        movie = {'title':title, 'plots':revplots, 'year':year, 'type':'user plot', 'source':'imdb'}\n",
    "        plotlist.append(movie)\n",
    "        nextMovie = False\n",
    "    if nextPlot == True:\n",
    "        #instantiate a new plot\n",
    "        plot = []\n",
    "    if line[:2] == 'PL':\n",
    "        #append to plot\n",
    "        plot.append(line[4:].replace('\\n',' '))\n",
    "        nextPlot = False\n",
    "        by = False\n",
    "    if line[:2] == 'BY':\n",
    "        #we're at the end of a plot, convert to string and append to list of plots for this review\n",
    "        plotstr = ''.join(plot)\n",
    "        revplots.append(plotstr.strip()) \n",
    "        nextPlot = True\n",
    "        by = True\n",
    "    if line[:2] == '--':\n",
    "        if by == False:  #if there was no 'BY' line we append now\n",
    "            plotstr = ''.join(plot)\n",
    "            revplots.append(plotstr.strip())  \n",
    "        nextPlot = True\n",
    "        by = False\n",
    "    "
   ]
  },
  {
   "cell_type": "code",
   "execution_count": 59,
   "metadata": {
    "collapsed": false
   },
   "outputs": [],
   "source": [
    "movieplots = pd.DataFrame(data=plotlist, columns=['title','source','year','plots', 'type'])"
   ]
  },
  {
   "cell_type": "code",
   "execution_count": 9,
   "metadata": {
    "collapsed": false,
    "scrolled": true
   },
   "outputs": [
    {
     "name": "stdout",
     "output_type": "stream",
     "text": [
      "(259028, 5)\n"
     ]
    },
    {
     "data": {
      "text/html": [
       "<div>\n",
       "<table border=\"1\" class=\"dataframe\">\n",
       "  <thead>\n",
       "    <tr style=\"text-align: right;\">\n",
       "      <th></th>\n",
       "      <th>title</th>\n",
       "      <th>source</th>\n",
       "      <th>year</th>\n",
       "      <th>plots</th>\n",
       "      <th>type</th>\n",
       "    </tr>\n",
       "  </thead>\n",
       "  <tbody>\n",
       "    <tr>\n",
       "      <th>0</th>\n",
       "      <td>#1 Cheerleader Camp (2010) (V)</td>\n",
       "      <td>imdb</td>\n",
       "      <td>2010</td>\n",
       "      <td>[\"When they're hired to work at a cheerleading...</td>\n",
       "      <td>user plot</td>\n",
       "    </tr>\n",
       "    <tr>\n",
       "      <th>1</th>\n",
       "      <td>#1 Serial Killer (2013)</td>\n",
       "      <td>imdb</td>\n",
       "      <td>2013</td>\n",
       "      <td>[\"Years of seething rage against the racism he...</td>\n",
       "      <td>user plot</td>\n",
       "    </tr>\n",
       "    <tr>\n",
       "      <th>2</th>\n",
       "      <td>#1 at the Apocalypse Box Office (2015)</td>\n",
       "      <td>imdb</td>\n",
       "      <td>2015</td>\n",
       "      <td>['Jules is, self declared, the most useless pe...</td>\n",
       "      <td>user plot</td>\n",
       "    </tr>\n",
       "    <tr>\n",
       "      <th>3</th>\n",
       "      <td>#137 (2011)</td>\n",
       "      <td>imdb</td>\n",
       "      <td>2011</td>\n",
       "      <td>['#137 is a SCI/FI thriller about a girl, Marl...</td>\n",
       "      <td>user plot</td>\n",
       "    </tr>\n",
       "    <tr>\n",
       "      <th>4</th>\n",
       "      <td>#29 (2012)</td>\n",
       "      <td>imdb</td>\n",
       "      <td>2012</td>\n",
       "      <td>[\"In #29, the constant zooming into certain la...</td>\n",
       "      <td>user plot</td>\n",
       "    </tr>\n",
       "  </tbody>\n",
       "</table>\n",
       "</div>"
      ],
      "text/plain": [
       "                                    title source  year  \\\n",
       "0          #1 Cheerleader Camp (2010) (V)   imdb  2010   \n",
       "1                 #1 Serial Killer (2013)   imdb  2013   \n",
       "2  #1 at the Apocalypse Box Office (2015)   imdb  2015   \n",
       "3                             #137 (2011)   imdb  2011   \n",
       "4                              #29 (2012)   imdb  2012   \n",
       "\n",
       "                                               plots       type  \n",
       "0  [\"When they're hired to work at a cheerleading...  user plot  \n",
       "1  [\"Years of seething rage against the racism he...  user plot  \n",
       "2  ['Jules is, self declared, the most useless pe...  user plot  \n",
       "3  ['#137 is a SCI/FI thriller about a girl, Marl...  user plot  \n",
       "4  [\"In #29, the constant zooming into certain la...  user plot  "
      ]
     },
     "execution_count": 9,
     "metadata": {},
     "output_type": "execute_result"
    }
   ],
   "source": [
    "print movieplots.shape\n",
    "movieplots.head()"
   ]
  },
  {
   "cell_type": "code",
   "execution_count": 4,
   "metadata": {
    "collapsed": false
   },
   "outputs": [],
   "source": [
    "#movieplots.to_csv(dropbox + \"movieplots.csv\", index=False)\n",
    "movieplots = pd.read_csv(dropbox + \"movieplots.csv\")"
   ]
  },
  {
   "cell_type": "code",
   "execution_count": 5,
   "metadata": {
    "collapsed": false
   },
   "outputs": [],
   "source": [
    "def clean_dates(row):\n",
    "    try:\n",
    "        row['year'] = int(row['year'])\n",
    "        return row\n",
    "    except:\n",
    "        row['year'] = np.nan\n",
    "        return row\n",
    "movieplots = movieplots.apply(clean_dates, axis = 1)"
   ]
  },
  {
   "cell_type": "code",
   "execution_count": 6,
   "metadata": {
    "collapsed": false,
    "scrolled": true
   },
   "outputs": [
    {
     "name": "stdout",
     "output_type": "stream",
     "text": [
      "[1899.0, 1901.0, 1903.0, 1907.0, 1909.0, 1910.0, 1911.0, 1913.0, 1917.0, 1918.0, 1927.0, 1934.0, 1935.0, 1940.0, 1941.0, 1942.0, 1943.0, 1944.0, 1945.0, 1946.0, 1947.0, 1949.0, 1951.0, 1952.0, 1954.0, 1960.0, 1961.0, 1969.0, 1971.0, 1972.0, 1973.0, 1974.0, 1975.0, 1978.0, 1979.0, 1980.0, 1981.0, 1983.0, 1985.0, 1986.0, 1987.0, 1988.0, 1989.0, 1990.0, 1991.0, 1992.0, 1993.0, 1995.0, 1996.0, 1997.0, 1998.0, 1999.0, 2001.0, 2002.0, 2004.0, 2005.0, 2006.0, 2007.0, 2008.0, 2009.0, 2010.0, 2011.0, 2012.0, 2013.0, 2014.0, 2015.0, nan, 30.0, 60.0, 718.0, 1888.0, 1891.0, 1893.0, 1894.0, 1895.0, 1896.0, 1897.0, 1898.0, 1900.0, 1902.0, 1904.0, 1905.0, 1906.0, 1908.0, 1912.0, 1914.0, 1915.0, 1916.0, 1919.0, 1920.0, 1921.0, 1922.0, 1923.0, 1924.0, 1925.0, 1926.0, 1928.0, 1929.0, 1930.0, 1931.0, 1932.0, 1933.0, 1936.0, 1937.0, 1938.0, 1939.0, 1948.0, 1950.0, 1953.0, 1955.0, 1956.0, 1957.0, 1958.0, 1959.0, 1962.0, 1963.0, 1964.0, 1965.0, 1966.0, 1967.0, 1968.0, 1970.0, 1976.0, 1977.0, 1982.0, 1984.0, 1994.0, 2000.0, 2003.0, 2016.0, 2017.0, 2018.0, 2019.0, 2020.0, 2021.0, 2022.0]\n"
     ]
    }
   ],
   "source": [
    "years = sorted(movieplots.year.unique())\n",
    "print years"
   ]
  },
  {
   "cell_type": "markdown",
   "metadata": {},
   "source": [
    "## Data distribution\n",
    "\n",
    "Let's have a look at our data and see how it is distributed over the years"
   ]
  },
  {
   "cell_type": "code",
   "execution_count": 6,
   "metadata": {
    "collapsed": false
   },
   "outputs": [],
   "source": [
    "years = range (1888, 2015)\n",
    "movie_counts = dict.fromkeys(years)\n",
    "for year in years:\n",
    "    count = sum(movieplots['year'] == year)\n",
    "    movie_counts[year] = count"
   ]
  },
  {
   "cell_type": "code",
   "execution_count": 8,
   "metadata": {
    "collapsed": false,
    "scrolled": true
   },
   "outputs": [
    {
     "data": {
      "image/png": "[encoded data removed]",
      "text/plain": [
       "<matplotlib.figure.Figure at 0x14af44350>"
      ]
     },
     "metadata": {},
     "output_type": "display_data"
    }
   ],
   "source": [
    "plt.figure(figsize=(20,7))\n",
    "plt.bar(movie_counts.keys(), movie_counts.values(), color=sns.color_palette()[0])\n",
    "plt.show()"
   ]
  },
  {
   "cell_type": "markdown",
   "metadata": {},
   "source": [
    "Our data isn't exactly evenly distributed over time. The data of appr. the last decade accounts for about half of all the data we have. We must bare that in mind when we make analasis over time."
   ]
  },
  {
   "cell_type": "code",
   "execution_count": 9,
   "metadata": {
    "collapsed": false
   },
   "outputs": [
    {
     "name": "stdout",
     "output_type": "stream",
     "text": [
      "259028\n",
      "132914\n"
     ]
    }
   ],
   "source": [
    "print len(movieplots)\n",
    "print len(movieplots[movieplots['year'] > 2005])"
   ]
  }
 ],
 "metadata": {
  "kernelspec": {
   "display_name": "Python 2",
   "language": "python",
   "name": "python2"
  },
  "language_info": {
   "codemirror_mode": {
    "name": "ipython",
    "version": 2
   },
   "file_extension": ".py",
   "mimetype": "text/x-python",
   "name": "python",
   "nbconvert_exporter": "python",
   "pygments_lexer": "ipython2",
   "version": "2.7.10"
  }
 },
 "nbformat": 4,
 "nbformat_minor": 0
}
