{
 "cells": [
  {
   "cell_type": "code",
   "execution_count": 39,
   "metadata": {
    "collapsed": true
   },
   "outputs": [],
   "source": [
    "import pandas as pd\n",
    "import urllib2 "
   ]
  },
  {
   "cell_type": "code",
   "execution_count": 48,
   "metadata": {
    "collapsed": true
   },
   "outputs": [],
   "source": [
    "# TODO: download from URL\n",
    "dropbox = \"/Users/mr/Dropbox/moviemeta/\""
   ]
  },
  {
   "cell_type": "code",
   "execution_count": 49,
   "metadata": {
    "collapsed": false
   },
   "outputs": [],
   "source": [
    "with open(dropbox + \"imdb/genres.list\") as f:\n",
    "    genres = f.readlines()\n",
    "with open(dropbox + \"imdb/plot.list\") as f:\n",
    "    plots = f.readlines()\n",
    "with open(dropbox + \"imdb/countries.list\") as f:\n",
    "    countries = f.readlines()"
   ]
  },
  {
   "cell_type": "code",
   "execution_count": 50,
   "metadata": {
    "collapsed": false
   },
   "outputs": [
    {
     "name": "stdout",
     "output_type": "stream",
     "text": [
      "2134860\n",
      "6855909\n",
      "1713923\n"
     ]
    }
   ],
   "source": [
    "print len(genres)\n",
    "print len(plots)\n",
    "print len(countries)"
   ]
  },
  {
   "cell_type": "code",
   "execution_count": 8,
   "metadata": {
    "collapsed": false
   },
   "outputs": [],
   "source": [
    "plotlist = []\n",
    "nextMovie = False\n",
    "plot = []\n",
    "revplots = []\n",
    "nextPlot = True\n",
    "by = False\n",
    "for line in plots:\n",
    "    #The titles that start with double quotes are TV shows, exclude them\n",
    "    if line[:2] == 'MV' and line[4] == '\"':\n",
    "        nextMovie = False\n",
    "        continue\n",
    "    if line[:2] == 'MV':\n",
    "        title = line[4:-1]\n",
    "        i = title.find('(')\n",
    "        j = title.find(')')\n",
    "        if i > 0 and j > 0:\n",
    "            year = title[i+1:j]\n",
    "        nextMovie = True\n",
    "    if nextMovie == True:\n",
    "        revplots = []\n",
    "        #instantiate a dict for the next movie\n",
    "        movie = {'title':title, 'plots':revplots, 'year':year, 'type':'user plot', 'source':'imdb'}\n",
    "        plotlist.append(movie)\n",
    "        nextMovie = False\n",
    "    if nextPlot == True:\n",
    "        #instantiate a new plot\n",
    "        plot = []\n",
    "    if line[:2] == 'PL':\n",
    "        #append to plot\n",
    "        plot.append(line[4:].replace('\\n',' '))\n",
    "        nextPlot = False\n",
    "        by = False\n",
    "    if line[:2] == 'BY':\n",
    "        #we're at the end of a plot, convert to string and append to list of plots for this review\n",
    "        plotstr = ''.join(plot)\n",
    "        revplots.append(plotstr.strip()) \n",
    "        nextPlot = True\n",
    "        by = True\n",
    "    if line[:2] == '--':\n",
    "        if by == False:  #if there was no 'BY' line we append now\n",
    "            plotstr = ''.join(plot)\n",
    "            revplots.append(plotstr.strip())  \n",
    "        nextPlot = True\n",
    "        by = False\n",
    "    "
   ]
  },
  {
   "cell_type": "code",
   "execution_count": 59,
   "metadata": {
    "collapsed": false
   },
   "outputs": [],
   "source": [
    "movieplots = pd.DataFrame(data=plotlist, columns=['title','source','year','plots', 'type'])"
   ]
  },
  {
   "cell_type": "code",
   "execution_count": 60,
   "metadata": {
    "collapsed": false,
    "scrolled": true
   },
   "outputs": [
    {
     "data": {
      "text/html": [
       "<div>\n",
       "<table border=\"1\" class=\"dataframe\">\n",
       "  <thead>\n",
       "    <tr style=\"text-align: right;\">\n",
       "      <th></th>\n",
       "      <th>title</th>\n",
       "      <th>source</th>\n",
       "      <th>year</th>\n",
       "      <th>plots</th>\n",
       "      <th>type</th>\n",
       "    </tr>\n",
       "  </thead>\n",
       "  <tbody>\n",
       "    <tr>\n",
       "      <th>0</th>\n",
       "      <td>#1 Cheerleader Camp (2010) (V)</td>\n",
       "      <td>imdb</td>\n",
       "      <td>2010</td>\n",
       "      <td>[When they're hired to work at a cheerleading ...</td>\n",
       "      <td>user plot</td>\n",
       "    </tr>\n",
       "    <tr>\n",
       "      <th>1</th>\n",
       "      <td>#1 Serial Killer (2013)</td>\n",
       "      <td>imdb</td>\n",
       "      <td>2013</td>\n",
       "      <td>[Years of seething rage against the racism he'...</td>\n",
       "      <td>user plot</td>\n",
       "    </tr>\n",
       "    <tr>\n",
       "      <th>2</th>\n",
       "      <td>#1 at the Apocalypse Box Office (2015)</td>\n",
       "      <td>imdb</td>\n",
       "      <td>2015</td>\n",
       "      <td>[Jules is, self declared, the most useless per...</td>\n",
       "      <td>user plot</td>\n",
       "    </tr>\n",
       "    <tr>\n",
       "      <th>3</th>\n",
       "      <td>#137 (2011)</td>\n",
       "      <td>imdb</td>\n",
       "      <td>2011</td>\n",
       "      <td>[#137 is a SCI/FI thriller about a girl, Marla...</td>\n",
       "      <td>user plot</td>\n",
       "    </tr>\n",
       "    <tr>\n",
       "      <th>4</th>\n",
       "      <td>#29 (2012)</td>\n",
       "      <td>imdb</td>\n",
       "      <td>2012</td>\n",
       "      <td>[In #29, the constant zooming into certain lan...</td>\n",
       "      <td>user plot</td>\n",
       "    </tr>\n",
       "  </tbody>\n",
       "</table>\n",
       "</div>"
      ],
      "text/plain": [
       "                                    title source  year  \\\n",
       "0          #1 Cheerleader Camp (2010) (V)   imdb  2010   \n",
       "1                 #1 Serial Killer (2013)   imdb  2013   \n",
       "2  #1 at the Apocalypse Box Office (2015)   imdb  2015   \n",
       "3                             #137 (2011)   imdb  2011   \n",
       "4                              #29 (2012)   imdb  2012   \n",
       "\n",
       "                                               plots       type  \n",
       "0  [When they're hired to work at a cheerleading ...  user plot  \n",
       "1  [Years of seething rage against the racism he'...  user plot  \n",
       "2  [Jules is, self declared, the most useless per...  user plot  \n",
       "3  [#137 is a SCI/FI thriller about a girl, Marla...  user plot  \n",
       "4  [In #29, the constant zooming into certain lan...  user plot  "
      ]
     },
     "execution_count": 60,
     "metadata": {},
     "output_type": "execute_result"
    }
   ],
   "source": [
    "movieplots.head()"
   ]
  },
  {
   "cell_type": "code",
   "execution_count": 28,
   "metadata": {
    "collapsed": false
   },
   "outputs": [],
   "source": [
    "'''#this takes forever, make it more efficient\n",
    "for movie in countries:\n",
    "    if movie[0] == '\"':\n",
    "        continue\n",
    "    split = movie.split('\\t')\n",
    "    title = split[0]\n",
    "    idx = movieplots[movieplots['title']== title].index\n",
    "    #if the title is in our dataframe add the country\n",
    "    if len(idx > 0):\n",
    "        movieplots.loc[[idx[0]],['country']]= split[len(split)-1].replace('\\n','')\n",
    "'''"
   ]
  },
  {
   "cell_type": "code",
   "execution_count": 62,
   "metadata": {
    "collapsed": false
   },
   "outputs": [],
   "source": [
    "movieplots.to_csv(dropbox + \"movieplots.csv\", index=False)"
   ]
  }
 ],
 "metadata": {
  "kernelspec": {
   "display_name": "Python 2",
   "language": "python",
   "name": "python2"
  },
  "language_info": {
   "codemirror_mode": {
    "name": "ipython",
    "version": 2
   },
   "file_extension": ".py",
   "mimetype": "text/x-python",
   "name": "python",
   "nbconvert_exporter": "python",
   "pygments_lexer": "ipython2",
   "version": "2.7.10"
  }
 },
 "nbformat": 4,
 "nbformat_minor": 0
}
