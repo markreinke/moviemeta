{
 "cells": [
  {
   "cell_type": "code",
   "execution_count": 2,
   "metadata": {
    "collapsed": true
   },
   "outputs": [],
   "source": [
    "import pandas as pd\n",
    "import numpy as np\n",
    "from gensim import corpora, models, similarities"
   ]
  },
  {
   "cell_type": "code",
   "execution_count": 13,
   "metadata": {
    "collapsed": false
   },
   "outputs": [],
   "source": [
    "dropbox = \"/Users/mr/Dropbox/moviemeta/\"\n",
    "corpus = corpora.MmCorpus(dropbox + 'testcorpus.mm')\n",
    "dictionary = corpora.Dictionary.load(dropbox + 'testdict.dict')"
   ]
  },
  {
   "cell_type": "code",
   "execution_count": 14,
   "metadata": {
    "collapsed": false
   },
   "outputs": [],
   "source": [
    "tfidf = models.TfidfModel(corpus)\n",
    "corpus_tfidf = tfidf[corpus]"
   ]
  },
  {
   "cell_type": "code",
   "execution_count": 15,
   "metadata": {
    "collapsed": false
   },
   "outputs": [],
   "source": [
    "lsi = models.LsiModel(corpus_tfidf, id2word=dictionary, num_topics=20)\n",
    "corpus_lsi = lsi[corpus_tfidf] "
   ]
  },
  {
   "cell_type": "code",
   "execution_count": 18,
   "metadata": {
    "collapsed": false
   },
   "outputs": [
    {
     "data": {
      "text/plain": [
       "[u'0.139*\"life\" + 0.120*\"film\" + 0.117*\"one\" + 0.114*\"love\" + 0.111*\"stori\" + 0.110*\"live\" + 0.107*\"find\" + 0.104*\"world\" + 0.103*\"famili\" + 0.098*\"man\"',\n",
       " u'-0.319*\"film\" + -0.212*\"music\" + -0.187*\"documentari\" + -0.138*\"art\" + -0.137*\"artist\" + 0.119*\"father\" + 0.114*\"find\" + 0.109*\"friend\" + 0.109*\"get\" + -0.107*\"featur\"',\n",
       " u'-0.285*\"love\" + 0.164*\"war\" + -0.157*\"music\" + 0.152*\"murder\" + -0.140*\"relationship\" + -0.124*\"life\" + 0.114*\"kill\" + -0.114*\"dream\" + -0.114*\"girl\" + 0.109*\"killer\"',\n",
       " u'-0.285*\"famili\" + -0.285*\"father\" + -0.175*\"mother\" + 0.175*\"friend\" + 0.175*\"music\" + 0.167*\"get\" + -0.155*\"son\" + -0.153*\"love\" + 0.131*\"night\" + -0.129*\"stori\"',\n",
       " u'-0.277*\"school\" + -0.268*\"music\" + -0.249*\"famili\" + 0.246*\"love\" + -0.242*\"father\" + 0.192*\"man\" + 0.182*\"woman\" + -0.147*\"brother\" + -0.143*\"year\" + -0.133*\"high\"',\n",
       " u'0.397*\"music\" + -0.298*\"school\" + -0.157*\"high\" + 0.147*\"man\" + 0.140*\"murder\" + 0.133*\"woman\" + -0.127*\"peopl\" + -0.125*\"student\" + -0.117*\"chang\" + 0.115*\"father\"',\n",
       " u'-0.342*\"love\" + -0.242*\"music\" + 0.232*\"film\" + -0.201*\"school\" + -0.155*\"girl\" + 0.152*\"hous\" + 0.143*\"nt\" + -0.124*\"high\" + -0.121*\"world\" + -0.113*\"must\"',\n",
       " u'-0.236*\"music\" + 0.224*\"school\" + 0.191*\"film\" + 0.183*\"murder\" + 0.153*\"killer\" + -0.148*\"world\" + 0.147*\"women\" + 0.143*\"student\" + -0.140*\"hous\" + 0.136*\"high\"',\n",
       " u'0.234*\"music\" + -0.175*\"school\" + 0.163*\"get\" + -0.161*\"film\" + -0.156*\"hous\" + -0.127*\"friend\" + -0.127*\"town\" + -0.124*\"night\" + -0.120*\"mysteri\" + 0.120*\"money\"',\n",
       " u'-0.264*\"love\" + -0.237*\"women\" + 0.192*\"life\" + -0.170*\"two\" + -0.168*\"war\" + -0.163*\"night\" + 0.161*\"school\" + 0.143*\"father\" + 0.137*\"dream\" + -0.132*\"men\"',\n",
       " u'-0.296*\"film\" + -0.191*\"famili\" + 0.189*\"woman\" + 0.188*\"women\" + 0.169*\"young\" + 0.168*\"man\" + 0.159*\"citi\" + -0.152*\"brother\" + 0.131*\"town\" + -0.126*\"short\"',\n",
       " u'0.261*\"new\" + 0.245*\"citi\" + 0.177*\"famili\" + 0.171*\"artist\" + 0.171*\"york\" + -0.168*\"man\" + -0.166*\"music\" + -0.154*\"school\" + -0.153*\"girl\" + -0.150*\"boy\"',\n",
       " u'0.265*\"music\" + -0.198*\"boy\" + -0.188*\"man\" + -0.181*\"father\" + 0.179*\"women\" + -0.172*\"citi\" + -0.159*\"town\" + -0.154*\"girl\" + -0.145*\"dream\" + -0.141*\"film\"',\n",
       " u'0.292*\"girl\" + -0.246*\"war\" + 0.244*\"town\" + -0.169*\"year\" + 0.163*\"famili\" + -0.159*\"man\" + 0.147*\"peopl\" + 0.145*\"small\" + -0.140*\"memori\" + -0.130*\"old\"',\n",
       " u'-0.350*\"dream\" + 0.289*\"love\" + 0.265*\"art\" + 0.204*\"artist\" + -0.149*\"women\" + 0.147*\"father\" + -0.139*\"young\" + -0.131*\"life\" + 0.126*\"relationship\" + -0.121*\"live\"',\n",
       " u'0.339*\"women\" + 0.242*\"art\" + -0.220*\"town\" + 0.210*\"artist\" + -0.197*\"love\" + -0.168*\"citi\" + 0.149*\"girl\" + 0.146*\"woman\" + 0.137*\"mother\" + 0.127*\"young\"',\n",
       " u'-0.272*\"town\" + 0.235*\"game\" + -0.234*\"man\" + 0.201*\"dream\" + -0.173*\"film\" + 0.165*\"father\" + -0.146*\"small\" + 0.140*\"year\" + -0.138*\"school\" + 0.128*\"detect\"',\n",
       " u'0.417*\"brother\" + -0.230*\"famili\" + 0.189*\"two\" + 0.174*\"sister\" + -0.170*\"wife\" + -0.143*\"daughter\" + 0.139*\"journey\" + -0.132*\"hous\" + -0.132*\"game\" + 0.130*\"past\"',\n",
       " u'-0.356*\"dream\" + -0.241*\"art\" + -0.231*\"artist\" + 0.172*\"friend\" + -0.167*\"nt\" + 0.144*\"relationship\" + -0.140*\"brother\" + 0.131*\"music\" + -0.128*\"famili\" + -0.128*\"war\"',\n",
       " u'-0.308*\"game\" + -0.254*\"man\" + -0.212*\"brother\" + 0.185*\"nt\" + 0.173*\"new\" + 0.154*\"war\" + 0.153*\"dream\" + -0.153*\"two\" + 0.144*\"film\" + -0.142*\"town\"']"
      ]
     },
     "execution_count": 18,
     "metadata": {},
     "output_type": "execute_result"
    }
   ],
   "source": [
    "lsi.p_topics(20)"
   ]
  },
  {
   "cell_type": "code",
   "execution_count": null,
   "metadata": {
    "collapsed": true
   },
   "outputs": [],
   "source": []
  }
 ],
 "metadata": {
  "kernelspec": {
   "display_name": "Python 2",
   "language": "python",
   "name": "python2"
  },
  "language_info": {
   "codemirror_mode": {
    "name": "ipython",
    "version": 2
   },
   "file_extension": ".py",
   "mimetype": "text/x-python",
   "name": "python",
   "nbconvert_exporter": "python",
   "pygments_lexer": "ipython2",
   "version": "2.7.10"
  }
 },
 "nbformat": 4,
 "nbformat_minor": 0
}
