{
 "cells": [
  {
   "cell_type": "code",
   "execution_count": null,
   "metadata": {
    "collapsed": false
   },
   "outputs": [],
   "source": [
    "%%bash\n",
    "#pip install TextBlob\n",
    "#conda install gensim"
   ]
  },
  {
   "cell_type": "code",
   "execution_count": 1,
   "metadata": {
    "collapsed": false
   },
   "outputs": [],
   "source": [
    "import pandas as pd\n",
    "import numpy as np\n",
    "import textblob as tb\n",
    "import nltk\n",
    "from nltk.corpus import stopwords as sw\n",
    "from nltk.stem import *\n",
    "import urllib2\n",
    "from gensim import corpora, models, similarities"
   ]
  },
  {
   "cell_type": "code",
   "execution_count": 2,
   "metadata": {
    "collapsed": false
   },
   "outputs": [],
   "source": [
    "dropbox = \"/Users/mr/Dropbox/moviemeta/\"\n",
    "movieplots = pd.read_csv(dropbox + 'movieplots.csv')\n",
    "#this is a work around because CSV conversion has converted list into string\n",
    "from ast import literal_eval\n",
    "movieplots['plots'] = movieplots['plots'].apply(literal_eval)"
   ]
  },
  {
   "cell_type": "code",
   "execution_count": 3,
   "metadata": {
    "collapsed": false
   },
   "outputs": [],
   "source": [
    "def clean(row):\n",
    "    try:\n",
    "        row['year'] = int(row['year'])\n",
    "        return row\n",
    "    except:\n",
    "        row['year'] = np.nan\n",
    "        return row"
   ]
  },
  {
   "cell_type": "code",
   "execution_count": 29,
   "metadata": {
    "collapsed": false
   },
   "outputs": [],
   "source": [
    "movieplots = movieplots.apply(clean, axis = 1)\n",
    "dftouse = movieplots[movieplots.year > 2014]"
   ]
  },
  {
   "cell_type": "code",
   "execution_count": 30,
   "metadata": {
    "collapsed": false
   },
   "outputs": [
    {
     "name": "stdout",
     "output_type": "stream",
     "text": [
      "(259028, 5)\n",
      "(16943, 5)\n"
     ]
    }
   ],
   "source": [
    "print movieplots.shape\n",
    "print dftouse.shape"
   ]
  },
  {
   "cell_type": "code",
   "execution_count": 6,
   "metadata": {
    "collapsed": false
   },
   "outputs": [],
   "source": [
    "import findspark\n",
    "findspark.init()\n",
    "import pyspark\n",
    "conf = (pyspark.SparkConf()\n",
    "    .setMaster('local')\n",
    "    .setAppName('pyspark')\n",
    "    .set(\"spark.executor.memory\", \"2g\"))\n",
    "sc = pyspark.SparkContext(conf=conf)\n",
    "from pyspark.sql import SQLContext\n",
    "sqlsc=SQLContext(sc)   "
   ]
  },
  {
   "cell_type": "code",
   "execution_count": 31,
   "metadata": {
    "collapsed": false
   },
   "outputs": [],
   "source": [
    "plots_sdf = sqlsc.createDataFrame(dftouse)"
   ]
  },
  {
   "cell_type": "code",
   "execution_count": 32,
   "metadata": {
    "collapsed": true
   },
   "outputs": [],
   "source": [
    "def sentences(text):\n",
    "    blob = tb.TextBlob(text)\n",
    "    return blob.sentences"
   ]
  },
  {
   "cell_type": "code",
   "execution_count": 33,
   "metadata": {
    "collapsed": true
   },
   "outputs": [],
   "source": [
    "def stem(word):\n",
    "    return PorterStemmer().stem(word)"
   ]
  },
  {
   "cell_type": "code",
   "execution_count": 43,
   "metadata": {
    "collapsed": false
   },
   "outputs": [],
   "source": [
    "def process(sents, dostop=True, dostem=True):\n",
    "    stopwords = set(sw.words('english'))\n",
    "    sents_processed  = []\n",
    "    words_processed  = []\n",
    "    for sent in sents:\n",
    "        if dostop == True and dostem == True: \n",
    "            words = [stem(word.lower()) for word in sent.words if word not in stopwords]     \n",
    "        elif dostop == True:\n",
    "            words = [word.lower() for word in sent.words if word not in stopwords]\n",
    "        elif dostem == True:\n",
    "            words = [stem(word.lower()) for word in sent.words ]\n",
    "        sents_processed.append(words)\n",
    "        words_processed += words \n",
    "    return (sents_processed, words_processed)"
   ]
  },
  {
   "cell_type": "code",
   "execution_count": 44,
   "metadata": {
    "collapsed": false
   },
   "outputs": [],
   "source": [
    "plots = (plots_sdf[['title','plots']]\n",
    "    .map(lambda x : (' '.join(x[1])))\n",
    ")\n",
    "docs = (plots\n",
    "    .map(sentences)\n",
    "    .map(process)          \n",
    ").cache()\n",
    "docs_sents = docs.map(lambda x : x[0]).collect()\n",
    "docs_words = docs.map(lambda x : x[1]).collect()"
   ]
  },
  {
   "cell_type": "code",
   "execution_count": 45,
   "metadata": {
    "collapsed": false
   },
   "outputs": [],
   "source": [
    "dictionary = corpora.Dictionary(docs_words)\n",
    "dictionary.save(dropbox +\"testdict.dict\") "
   ]
  },
  {
   "cell_type": "code",
   "execution_count": 46,
   "metadata": {
    "collapsed": true
   },
   "outputs": [],
   "source": [
    "corpus = (dictionary.doc2bow(doc) for doc in docs_words)\n",
    "corpora.MmCorpus.serialize(dropbox +\"testcorpus.mm\", corpus)"
   ]
  },
  {
   "cell_type": "code",
   "execution_count": 38,
   "metadata": {
    "collapsed": false
   },
   "outputs": [],
   "source": [
    "tfidf = models.TfidfModel(corpus)\n",
    "corpus_tfidf = tfidf[corpus]"
   ]
  }
 ],
 "metadata": {
  "kernelspec": {
   "display_name": "Python 2",
   "language": "python",
   "name": "python2"
  },
  "language_info": {
   "codemirror_mode": {
    "name": "ipython",
    "version": 2
   },
   "file_extension": ".py",
   "mimetype": "text/x-python",
   "name": "python",
   "nbconvert_exporter": "python",
   "pygments_lexer": "ipython2",
   "version": "2.7.10"
  }
 },
 "nbformat": 4,
 "nbformat_minor": 0
}
