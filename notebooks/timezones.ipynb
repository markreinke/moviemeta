{
 "cells": [
  {
   "cell_type": "markdown",
   "metadata": {},
   "source": [
    "## When is everyone awake?\n",
    "\n",
    "The first challenge of our project is to find a time to collaborate. Turns out someone or the other is sleeping almost always. :(\n"
   ]
  },
  {
   "cell_type": "code",
   "execution_count": 41,
   "metadata": {
    "collapsed": false
   },
   "outputs": [
    {
     "name": "stdout",
     "output_type": "stream",
     "text": [
      "Good time: 05:30:00 UTC\n",
      "Good time: 06:00:00 UTC\n",
      "Good time: 06:30:00 UTC\n"
     ]
    }
   ],
   "source": [
    "from datetime import datetime\n",
    "import time\n",
    "from pytz import timezone\n",
    "import pytz\n",
    "from itertools import cycle\n",
    "\n",
    "prefs = [dict(tz='US/Pacific',    zzz_start = \"23:00\", zzz_end = \"06:00\"), \n",
    "         dict(tz='Europe/Berlin', zzz_start = \"23:00\", zzz_end = \"06:00\"), \n",
    "         dict(tz='Asia/Seoul',    zzz_start = \"23:00\", zzz_end = \"06:00\"), \n",
    "         dict(tz='Asia/Kolkata',  zzz_start = \"23:00\", zzz_end = \"06:00\")]\n",
    "\n",
    "for hr in range(0, 24):\n",
    "    for minutes in [0, 30]:\n",
    "        time_utc = datetime(2015, 11, 10, hr, minutes, 0) # Day doesn't matter\n",
    "        time_utc = timezone('UTC').localize(time_utc)\n",
    "        everyone_awake = True\n",
    "        for pref in prefs:\n",
    "            tz = timezone(pref.get('tz'))\n",
    "            local_time = tz.normalize(time_utc.astimezone(tz))\n",
    "            zzz_start = tz.localize(datetime.strptime(pref.get('zzz_start'), \"%H:%M\"))\n",
    "            zzz_end = tz.localize(datetime.strptime(pref.get('zzz_end'), \"%H:%M\"))\n",
    "            if(zzz_start.time() < zzz_end.time()):\n",
    "                if(local_time.time() >= zzz_start.time() and local_time.time() <= zzz_end.time()):\n",
    "                    everyone_awake = False\n",
    "                    break\n",
    "            else:\n",
    "                if(local_time.time() >= zzz_start.time() or local_time.time() <= zzz_end.time()):\n",
    "                    everyone_awake = False\n",
    "                    break\n",
    "\n",
    "        if(everyone_awake):\n",
    "            print(\"Good time: \" + time_utc.strftime(\"%H:%M:%S\") + \" UTC\")"
   ]
  },
  {
   "cell_type": "code",
   "execution_count": null,
   "metadata": {
    "collapsed": true
   },
   "outputs": [],
   "source": []
  }
 ],
 "metadata": {
  "kernelspec": {
   "display_name": "Python 2",
   "language": "python",
   "name": "python2"
  },
  "language_info": {
   "codemirror_mode": {
    "name": "ipython",
    "version": 2
   },
   "file_extension": ".py",
   "mimetype": "text/x-python",
   "name": "python",
   "nbconvert_exporter": "python",
   "pygments_lexer": "ipython2",
   "version": "2.7.10"
  }
 },
 "nbformat": 4,
 "nbformat_minor": 0
}
