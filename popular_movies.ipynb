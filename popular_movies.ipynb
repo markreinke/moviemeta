{
 "cells": [
  {
   "cell_type": "markdown",
   "metadata": {},
   "source": [
    "##Work Flow##\n",
    "1. Get top 50 movies list from boxofficemojo.com for 4 countries, 5 years (~250 movies for each country)\n",
    "2. Get origin(production country) from wiki\n",
    "3. Collect wiki url for each movie\n",
    "4. Scraping wiki plots\n",
    "5. Cleaning plot text : remove tags\n",
    "6. Add some popularity measures: sales data for each movie\n",
    "7. Merge 4 dataframes into one"
   ]
  },
  {
   "cell_type": "code",
   "execution_count": 1,
   "metadata": {
    "collapsed": true
   },
   "outputs": [],
   "source": [
    "%matplotlib inline\n",
    "import numpy as np\n",
    "import scipy as sp\n",
    "import matplotlib as mpl\n",
    "import matplotlib.cm as cm\n",
    "import matplotlib.pyplot as plt\n",
    "import pandas as pd\n",
    "pd.set_option('display.width', 500)\n",
    "pd.set_option('display.max_columns', 100)\n",
    "pd.set_option('display.notebook_repr_html', True)\n",
    "import seaborn as sns\n",
    "sns.set_style(\"whitegrid\")\n",
    "sns.set_context(\"poster\")"
   ]
  },
  {
   "cell_type": "code",
   "execution_count": 2,
   "metadata": {
    "collapsed": true
   },
   "outputs": [],
   "source": [
    "import urllib2\n",
    "from bs4 import BeautifulSoup"
   ]
  },
  {
   "cell_type": "code",
   "execution_count": 3,
   "metadata": {
    "collapsed": false
   },
   "outputs": [
    {
     "data": {
      "text/html": [
       "<div>\n",
       "<table border=\"1\" class=\"dataframe\">\n",
       "  <thead>\n",
       "    <tr style=\"text-align: right;\">\n",
       "      <th></th>\n",
       "      <th>year</th>\n",
       "      <th>country</th>\n",
       "      <th>movie</th>\n",
       "      <th>source</th>\n",
       "      <th>origin</th>\n",
       "      <th>url_wiki</th>\n",
       "    </tr>\n",
       "  </thead>\n",
       "  <tbody>\n",
       "    <tr>\n",
       "      <th>0</th>\n",
       "      <td>2014</td>\n",
       "      <td>US</td>\n",
       "      <td>American Sniper</td>\n",
       "      <td>boxofficemojo</td>\n",
       "      <td>United States</td>\n",
       "      <td>https://en.wikipedia.org/wiki/American_Sniper</td>\n",
       "    </tr>\n",
       "    <tr>\n",
       "      <th>1</th>\n",
       "      <td>2014</td>\n",
       "      <td>US</td>\n",
       "      <td>The Hunger Games: Mockingjay - Part 1</td>\n",
       "      <td>boxofficemojo</td>\n",
       "      <td>United States</td>\n",
       "      <td>https://en.wikipedia.org/wiki/The_Hunger_Games...</td>\n",
       "    </tr>\n",
       "    <tr>\n",
       "      <th>2</th>\n",
       "      <td>2014</td>\n",
       "      <td>US</td>\n",
       "      <td>Guardians of the Galaxy</td>\n",
       "      <td>boxofficemojo</td>\n",
       "      <td>United States</td>\n",
       "      <td>https://en.wikipedia.org/wiki/Guardians_of_the...</td>\n",
       "    </tr>\n",
       "    <tr>\n",
       "      <th>3</th>\n",
       "      <td>2014</td>\n",
       "      <td>US</td>\n",
       "      <td>Captain America: The Winter Soldier</td>\n",
       "      <td>boxofficemojo</td>\n",
       "      <td>United States</td>\n",
       "      <td>https://en.wikipedia.org/wiki/Captain_America:...</td>\n",
       "    </tr>\n",
       "    <tr>\n",
       "      <th>4</th>\n",
       "      <td>2014</td>\n",
       "      <td>US</td>\n",
       "      <td>The LEGO Movie</td>\n",
       "      <td>boxofficemojo</td>\n",
       "      <td>United States, Australia,Denmark</td>\n",
       "      <td>https://en.wikipedia.org/wiki/The_Lego_Movie</td>\n",
       "    </tr>\n",
       "  </tbody>\n",
       "</table>\n",
       "</div>"
      ],
      "text/plain": [
       "   year country                                  movie         source                            origin                                           url_wiki\n",
       "0  2014      US                        American Sniper  boxofficemojo                     United States      https://en.wikipedia.org/wiki/American_Sniper\n",
       "1  2014      US  The Hunger Games: Mockingjay - Part 1  boxofficemojo                     United States  https://en.wikipedia.org/wiki/The_Hunger_Games...\n",
       "2  2014      US                Guardians of the Galaxy  boxofficemojo                     United States  https://en.wikipedia.org/wiki/Guardians_of_the...\n",
       "3  2014      US    Captain America: The Winter Soldier  boxofficemojo                     United States  https://en.wikipedia.org/wiki/Captain_America:...\n",
       "4  2014      US                         The LEGO Movie  boxofficemojo  United States, Australia,Denmark       https://en.wikipedia.org/wiki/The_Lego_Movie"
      ]
     },
     "execution_count": 3,
     "metadata": {},
     "output_type": "execute_result"
    }
   ],
   "source": [
    "#popular movies in US(top 50 movies for each of 2010~2014)\n",
    "df_us=pd.read_csv(\"US.csv\")\n",
    "df_us.head(5)"
   ]
  },
  {
   "cell_type": "code",
   "execution_count": 4,
   "metadata": {
    "collapsed": false
   },
   "outputs": [
    {
     "data": {
      "text/plain": [
       "(271, 6)"
      ]
     },
     "execution_count": 4,
     "metadata": {},
     "output_type": "execute_result"
    }
   ],
   "source": [
    "df_us.shape"
   ]
  },
  {
   "cell_type": "code",
   "execution_count": 5,
   "metadata": {
    "collapsed": true
   },
   "outputs": [],
   "source": [
    "#wiki-url list\n",
    "wikis_us= df_us['url_wiki'].tolist()"
   ]
  },
  {
   "cell_type": "code",
   "execution_count": 8,
   "metadata": {
    "collapsed": false
   },
   "outputs": [],
   "source": [
    "#scraping movie plots : list of wiki plots for US top movies\n",
    "plots_us =[]\n",
    "for wiki in wikis_us:\n",
    "    soup = BeautifulSoup(urllib2.urlopen(wiki))\n",
    "    hs = soup.find_all('h2')\n",
    "    ps = hs[1].find_next_siblings()\n",
    "    contents_us=[]\n",
    "    for section in ps:\n",
    "        content = u\"\"\n",
    "        if section.name=='h2':\n",
    "            break\n",
    "        content +=unicode(section)\n",
    "        contents_us.append(content)\n",
    "    plots_us.append(contents_us)"
   ]
  },
  {
   "cell_type": "code",
   "execution_count": 9,
   "metadata": {
    "collapsed": false
   },
   "outputs": [
    {
     "data": {
      "text/plain": [
       "271"
      ]
     },
     "execution_count": 9,
     "metadata": {},
     "output_type": "execute_result"
    }
   ],
   "source": [
    "len(plots_us)"
   ]
  },
  {
   "cell_type": "code",
   "execution_count": 10,
   "metadata": {
    "collapsed": false
   },
   "outputs": [
    {
     "data": {
      "text/html": [
       "<div>\n",
       "<table border=\"1\" class=\"dataframe\">\n",
       "  <thead>\n",
       "    <tr style=\"text-align: right;\">\n",
       "      <th></th>\n",
       "      <th>year</th>\n",
       "      <th>country</th>\n",
       "      <th>movie</th>\n",
       "      <th>source</th>\n",
       "      <th>origin</th>\n",
       "      <th>url_wiki</th>\n",
       "      <th>wiki_plot</th>\n",
       "    </tr>\n",
       "  </thead>\n",
       "  <tbody>\n",
       "    <tr>\n",
       "      <th>0</th>\n",
       "      <td>2014</td>\n",
       "      <td>US</td>\n",
       "      <td>American Sniper</td>\n",
       "      <td>boxofficemojo</td>\n",
       "      <td>United States</td>\n",
       "      <td>https://en.wikipedia.org/wiki/American_Sniper</td>\n",
       "      <td>[&lt;p&gt;Growing up in &lt;a href=\"/wiki/Texas\" title=...</td>\n",
       "    </tr>\n",
       "    <tr>\n",
       "      <th>1</th>\n",
       "      <td>2014</td>\n",
       "      <td>US</td>\n",
       "      <td>The Hunger Games: Mockingjay - Part 1</td>\n",
       "      <td>boxofficemojo</td>\n",
       "      <td>United States</td>\n",
       "      <td>https://en.wikipedia.org/wiki/The_Hunger_Games...</td>\n",
       "      <td>[&lt;p&gt;After being rescued from the destroyed are...</td>\n",
       "    </tr>\n",
       "    <tr>\n",
       "      <th>2</th>\n",
       "      <td>2014</td>\n",
       "      <td>US</td>\n",
       "      <td>Guardians of the Galaxy</td>\n",
       "      <td>boxofficemojo</td>\n",
       "      <td>United States</td>\n",
       "      <td>https://en.wikipedia.org/wiki/Guardians_of_the...</td>\n",
       "      <td>[&lt;p&gt;In 1988, following his mother's death, a y...</td>\n",
       "    </tr>\n",
       "    <tr>\n",
       "      <th>3</th>\n",
       "      <td>2014</td>\n",
       "      <td>US</td>\n",
       "      <td>Captain America: The Winter Soldier</td>\n",
       "      <td>boxofficemojo</td>\n",
       "      <td>United States</td>\n",
       "      <td>https://en.wikipedia.org/wiki/Captain_America:...</td>\n",
       "      <td>[&lt;p&gt;Two years after &lt;a href=\"/wiki/The_Avenger...</td>\n",
       "    </tr>\n",
       "    <tr>\n",
       "      <th>4</th>\n",
       "      <td>2014</td>\n",
       "      <td>US</td>\n",
       "      <td>The LEGO Movie</td>\n",
       "      <td>boxofficemojo</td>\n",
       "      <td>United States, Australia,Denmark</td>\n",
       "      <td>https://en.wikipedia.org/wiki/The_Lego_Movie</td>\n",
       "      <td>[&lt;p&gt;In the &lt;a href=\"/wiki/Lego\" title=\"Lego\"&gt;L...</td>\n",
       "    </tr>\n",
       "  </tbody>\n",
       "</table>\n",
       "</div>"
      ],
      "text/plain": [
       "   year country                                  movie         source                            origin                                           url_wiki                                          wiki_plot\n",
       "0  2014      US                        American Sniper  boxofficemojo                     United States      https://en.wikipedia.org/wiki/American_Sniper  [<p>Growing up in <a href=\"/wiki/Texas\" title=...\n",
       "1  2014      US  The Hunger Games: Mockingjay - Part 1  boxofficemojo                     United States  https://en.wikipedia.org/wiki/The_Hunger_Games...  [<p>After being rescued from the destroyed are...\n",
       "2  2014      US                Guardians of the Galaxy  boxofficemojo                     United States  https://en.wikipedia.org/wiki/Guardians_of_the...  [<p>In 1988, following his mother's death, a y...\n",
       "3  2014      US    Captain America: The Winter Soldier  boxofficemojo                     United States  https://en.wikipedia.org/wiki/Captain_America:...  [<p>Two years after <a href=\"/wiki/The_Avenger...\n",
       "4  2014      US                         The LEGO Movie  boxofficemojo  United States, Australia,Denmark       https://en.wikipedia.org/wiki/The_Lego_Movie  [<p>In the <a href=\"/wiki/Lego\" title=\"Lego\">L..."
      ]
     },
     "execution_count": 10,
     "metadata": {},
     "output_type": "execute_result"
    }
   ],
   "source": [
    "#add plots_us to column 'wiki_plot' in the original dataframe \n",
    "df_us['wiki_plot'] = pd.Series(plots_us, index=df_us.index)\n",
    "df_us.head(5)"
   ]
  },
  {
   "cell_type": "code",
   "execution_count": 12,
   "metadata": {
    "collapsed": false
   },
   "outputs": [
    {
     "data": {
      "text/html": [
       "<div>\n",
       "<table border=\"1\" class=\"dataframe\">\n",
       "  <thead>\n",
       "    <tr style=\"text-align: right;\">\n",
       "      <th></th>\n",
       "      <th>year</th>\n",
       "      <th>country</th>\n",
       "      <th>movie</th>\n",
       "      <th>source</th>\n",
       "      <th>origin</th>\n",
       "      <th>url_wiki</th>\n",
       "    </tr>\n",
       "  </thead>\n",
       "  <tbody>\n",
       "    <tr>\n",
       "      <th>0</th>\n",
       "      <td>2014</td>\n",
       "      <td>Germany</td>\n",
       "      <td>The Hobbit: The Battle of the Five Armies</td>\n",
       "      <td>boxofficemojo</td>\n",
       "      <td>New Zealand,United States</td>\n",
       "      <td>https://en.wikipedia.org/wiki/The_Hobbit:_The_...</td>\n",
       "    </tr>\n",
       "    <tr>\n",
       "      <th>1</th>\n",
       "      <td>2014</td>\n",
       "      <td>Germany</td>\n",
       "      <td>Honig im Kopf</td>\n",
       "      <td>boxofficemojo</td>\n",
       "      <td>Germany</td>\n",
       "      <td>https://en.wikipedia.org/wiki/Head_Full_of_Honey</td>\n",
       "    </tr>\n",
       "    <tr>\n",
       "      <th>2</th>\n",
       "      <td>2014</td>\n",
       "      <td>Germany</td>\n",
       "      <td>Transformers: Age of Extinction</td>\n",
       "      <td>boxofficemojo</td>\n",
       "      <td>United States, China</td>\n",
       "      <td>https://en.wikipedia.org/wiki/Transformers:_Ag...</td>\n",
       "    </tr>\n",
       "    <tr>\n",
       "      <th>3</th>\n",
       "      <td>2014</td>\n",
       "      <td>Germany</td>\n",
       "      <td>The Hunger Games: Mockingjay - Part 1</td>\n",
       "      <td>boxofficemojo</td>\n",
       "      <td>United States</td>\n",
       "      <td>https://en.wikipedia.org/wiki/The_Hunger_Games...</td>\n",
       "    </tr>\n",
       "    <tr>\n",
       "      <th>4</th>\n",
       "      <td>2014</td>\n",
       "      <td>Germany</td>\n",
       "      <td>Qu'est-ce qu'on a fait au Bon Dieu?</td>\n",
       "      <td>boxofficemojo</td>\n",
       "      <td>France</td>\n",
       "      <td>https://en.wikipedia.org/wiki/Serial_(Bad)_Wed...</td>\n",
       "    </tr>\n",
       "  </tbody>\n",
       "</table>\n",
       "</div>"
      ],
      "text/plain": [
       "   year  country                                      movie         source                     origin                                           url_wiki\n",
       "0  2014  Germany  The Hobbit: The Battle of the Five Armies  boxofficemojo  New Zealand,United States  https://en.wikipedia.org/wiki/The_Hobbit:_The_...\n",
       "1  2014  Germany                              Honig im Kopf  boxofficemojo                    Germany   https://en.wikipedia.org/wiki/Head_Full_of_Honey\n",
       "2  2014  Germany            Transformers: Age of Extinction  boxofficemojo       United States, China  https://en.wikipedia.org/wiki/Transformers:_Ag...\n",
       "3  2014  Germany      The Hunger Games: Mockingjay - Part 1  boxofficemojo              United States  https://en.wikipedia.org/wiki/The_Hunger_Games...\n",
       "4  2014  Germany        Qu'est-ce qu'on a fait au Bon Dieu?  boxofficemojo                     France  https://en.wikipedia.org/wiki/Serial_(Bad)_Wed..."
      ]
     },
     "execution_count": 12,
     "metadata": {},
     "output_type": "execute_result"
    }
   ],
   "source": [
    "#popular movies in GE(top 50 movies for each of 2010~2014)\n",
    "df_ge=pd.read_csv(\"GE.csv\")\n",
    "df_ge.head(5)"
   ]
  },
  {
   "cell_type": "code",
   "execution_count": 13,
   "metadata": {
    "collapsed": false
   },
   "outputs": [
    {
     "data": {
      "text/plain": [
       "(238, 6)"
      ]
     },
     "execution_count": 13,
     "metadata": {},
     "output_type": "execute_result"
    }
   ],
   "source": [
    "df_ge.shape"
   ]
  },
  {
   "cell_type": "code",
   "execution_count": 14,
   "metadata": {
    "collapsed": true
   },
   "outputs": [],
   "source": [
    "wikis_ge= df_ge['url_wiki'].tolist()"
   ]
  },
  {
   "cell_type": "code",
   "execution_count": 15,
   "metadata": {
    "collapsed": true
   },
   "outputs": [],
   "source": [
    "#scraping movie plots : list of wiki plots for GE top movies\n",
    "plots_ge =[]\n",
    "for wiki in wikis_ge:\n",
    "    soup = BeautifulSoup(urllib2.urlopen(wiki))\n",
    "    hs = soup.find_all('h2')\n",
    "    ps = hs[1].find_next_siblings()\n",
    "    contents_ge=[]\n",
    "    for section in ps:\n",
    "        content = u\"\"\n",
    "        if section.name=='h2':\n",
    "            break\n",
    "        content +=unicode(section)\n",
    "        contents_ge.append(content)\n",
    "    plots_ge.append(contents_ge)"
   ]
  },
  {
   "cell_type": "code",
   "execution_count": 16,
   "metadata": {
    "collapsed": false
   },
   "outputs": [
    {
     "data": {
      "text/plain": [
       "238"
      ]
     },
     "execution_count": 16,
     "metadata": {},
     "output_type": "execute_result"
    }
   ],
   "source": [
    "len(plots_ge)"
   ]
  },
  {
   "cell_type": "code",
   "execution_count": 17,
   "metadata": {
    "collapsed": false,
    "scrolled": true
   },
   "outputs": [
    {
     "data": {
      "text/html": [
       "<div>\n",
       "<table border=\"1\" class=\"dataframe\">\n",
       "  <thead>\n",
       "    <tr style=\"text-align: right;\">\n",
       "      <th></th>\n",
       "      <th>year</th>\n",
       "      <th>country</th>\n",
       "      <th>movie</th>\n",
       "      <th>source</th>\n",
       "      <th>origin</th>\n",
       "      <th>url_wiki</th>\n",
       "      <th>wiki_plot</th>\n",
       "    </tr>\n",
       "  </thead>\n",
       "  <tbody>\n",
       "    <tr>\n",
       "      <th>0</th>\n",
       "      <td>2014</td>\n",
       "      <td>Germany</td>\n",
       "      <td>The Hobbit: The Battle of the Five Armies</td>\n",
       "      <td>boxofficemojo</td>\n",
       "      <td>New Zealand,United States</td>\n",
       "      <td>https://en.wikipedia.org/wiki/The_Hobbit:_The_...</td>\n",
       "      <td>[&lt;p&gt;&lt;a href=\"/wiki/Bilbo_Baggins\" title=\"Bilbo...</td>\n",
       "    </tr>\n",
       "    <tr>\n",
       "      <th>1</th>\n",
       "      <td>2014</td>\n",
       "      <td>Germany</td>\n",
       "      <td>Honig im Kopf</td>\n",
       "      <td>boxofficemojo</td>\n",
       "      <td>Germany</td>\n",
       "      <td>https://en.wikipedia.org/wiki/Head_Full_of_Honey</td>\n",
       "      <td>[&lt;p&gt;Retired &lt;a class=\"mw-redirect\" href=\"/wiki...</td>\n",
       "    </tr>\n",
       "    <tr>\n",
       "      <th>2</th>\n",
       "      <td>2014</td>\n",
       "      <td>Germany</td>\n",
       "      <td>Transformers: Age of Extinction</td>\n",
       "      <td>boxofficemojo</td>\n",
       "      <td>United States, China</td>\n",
       "      <td>https://en.wikipedia.org/wiki/Transformers:_Ag...</td>\n",
       "      <td>[&lt;table class=\"metadata plainlinks ambox ambox...</td>\n",
       "    </tr>\n",
       "    <tr>\n",
       "      <th>3</th>\n",
       "      <td>2014</td>\n",
       "      <td>Germany</td>\n",
       "      <td>The Hunger Games: Mockingjay - Part 1</td>\n",
       "      <td>boxofficemojo</td>\n",
       "      <td>United States</td>\n",
       "      <td>https://en.wikipedia.org/wiki/The_Hunger_Games...</td>\n",
       "      <td>[&lt;p&gt;After being rescued from the destroyed are...</td>\n",
       "    </tr>\n",
       "    <tr>\n",
       "      <th>4</th>\n",
       "      <td>2014</td>\n",
       "      <td>Germany</td>\n",
       "      <td>Qu'est-ce qu'on a fait au Bon Dieu?</td>\n",
       "      <td>boxofficemojo</td>\n",
       "      <td>France</td>\n",
       "      <td>https://en.wikipedia.org/wiki/Serial_(Bad)_Wed...</td>\n",
       "      <td>[&lt;p&gt;Claude Verneuil, a &lt;a href=\"/wiki/Gaullism...</td>\n",
       "    </tr>\n",
       "  </tbody>\n",
       "</table>\n",
       "</div>"
      ],
      "text/plain": [
       "   year  country                                      movie         source                     origin                                           url_wiki                                          wiki_plot\n",
       "0  2014  Germany  The Hobbit: The Battle of the Five Armies  boxofficemojo  New Zealand,United States  https://en.wikipedia.org/wiki/The_Hobbit:_The_...  [<p><a href=\"/wiki/Bilbo_Baggins\" title=\"Bilbo...\n",
       "1  2014  Germany                              Honig im Kopf  boxofficemojo                    Germany   https://en.wikipedia.org/wiki/Head_Full_of_Honey  [<p>Retired <a class=\"mw-redirect\" href=\"/wiki...\n",
       "2  2014  Germany            Transformers: Age of Extinction  boxofficemojo       United States, China  https://en.wikipedia.org/wiki/Transformers:_Ag...  [<table class=\"metadata plainlinks ambox ambox...\n",
       "3  2014  Germany      The Hunger Games: Mockingjay - Part 1  boxofficemojo              United States  https://en.wikipedia.org/wiki/The_Hunger_Games...  [<p>After being rescued from the destroyed are...\n",
       "4  2014  Germany        Qu'est-ce qu'on a fait au Bon Dieu?  boxofficemojo                     France  https://en.wikipedia.org/wiki/Serial_(Bad)_Wed...  [<p>Claude Verneuil, a <a href=\"/wiki/Gaullism..."
      ]
     },
     "execution_count": 17,
     "metadata": {},
     "output_type": "execute_result"
    }
   ],
   "source": [
    "#add plots_us to column 'wiki_plot' in the original dataframe \n",
    "df_ge['wiki_plot'] = pd.Series(plots_ge, index=df_ge.index)\n",
    "df_ge.head(5)"
   ]
  },
  {
   "cell_type": "code",
   "execution_count": 18,
   "metadata": {
    "collapsed": false
   },
   "outputs": [
    {
     "data": {
      "text/html": [
       "<div>\n",
       "<table border=\"1\" class=\"dataframe\">\n",
       "  <thead>\n",
       "    <tr style=\"text-align: right;\">\n",
       "      <th></th>\n",
       "      <th>year</th>\n",
       "      <th>country</th>\n",
       "      <th>movie</th>\n",
       "      <th>source</th>\n",
       "      <th>origin</th>\n",
       "      <th>url_wiki</th>\n",
       "    </tr>\n",
       "  </thead>\n",
       "  <tbody>\n",
       "    <tr>\n",
       "      <th>0</th>\n",
       "      <td>2014</td>\n",
       "      <td>KR</td>\n",
       "      <td>Myeong-ryang (The Admiral:Roaring Currents)</td>\n",
       "      <td>boxofficemojo</td>\n",
       "      <td>South Korea</td>\n",
       "      <td>https://en.wikipedia.org/wiki/The_Admiral:_Roa...</td>\n",
       "    </tr>\n",
       "    <tr>\n",
       "      <th>1</th>\n",
       "      <td>2014</td>\n",
       "      <td>KR</td>\n",
       "      <td>Ode to My Father</td>\n",
       "      <td>boxofficemojo</td>\n",
       "      <td>South Korea</td>\n",
       "      <td>https://en.wikipedia.org/wiki/Ode_to_My_Father</td>\n",
       "    </tr>\n",
       "    <tr>\n",
       "      <th>2</th>\n",
       "      <td>2014</td>\n",
       "      <td>KR</td>\n",
       "      <td>Frozen (2013)</td>\n",
       "      <td>boxofficemojo</td>\n",
       "      <td>United States</td>\n",
       "      <td>https://en.wikipedia.org/wiki/Frozen_(2013_film)</td>\n",
       "    </tr>\n",
       "    <tr>\n",
       "      <th>3</th>\n",
       "      <td>2014</td>\n",
       "      <td>KR</td>\n",
       "      <td>Interstellar</td>\n",
       "      <td>boxofficemojo</td>\n",
       "      <td>United States,United Kingdom</td>\n",
       "      <td>https://en.wikipedia.org/wiki/Interstellar_(film)</td>\n",
       "    </tr>\n",
       "    <tr>\n",
       "      <th>4</th>\n",
       "      <td>2014</td>\n",
       "      <td>KR</td>\n",
       "      <td>The Pirates (2014)</td>\n",
       "      <td>boxofficemojo</td>\n",
       "      <td>South Korea</td>\n",
       "      <td>https://en.wikipedia.org/wiki/The_Pirates_(201...</td>\n",
       "    </tr>\n",
       "  </tbody>\n",
       "</table>\n",
       "</div>"
      ],
      "text/plain": [
       "   year country                                        movie         source                        origin                                           url_wiki\n",
       "0  2014      KR  Myeong-ryang (The Admiral:Roaring Currents)  boxofficemojo                   South Korea  https://en.wikipedia.org/wiki/The_Admiral:_Roa...\n",
       "1  2014      KR                             Ode to My Father  boxofficemojo                   South Korea     https://en.wikipedia.org/wiki/Ode_to_My_Father\n",
       "2  2014      KR                                Frozen (2013)  boxofficemojo                 United States   https://en.wikipedia.org/wiki/Frozen_(2013_film)\n",
       "3  2014      KR                                 Interstellar  boxofficemojo  United States,United Kingdom  https://en.wikipedia.org/wiki/Interstellar_(film)\n",
       "4  2014      KR                           The Pirates (2014)  boxofficemojo                   South Korea  https://en.wikipedia.org/wiki/The_Pirates_(201..."
      ]
     },
     "execution_count": 18,
     "metadata": {},
     "output_type": "execute_result"
    }
   ],
   "source": [
    "#popular movies in KR(top 50 movies for each of 2010~2014)\n",
    "df_kr=pd.read_csv(\"KR.csv\")\n",
    "df_kr.head(5)"
   ]
  },
  {
   "cell_type": "code",
   "execution_count": 19,
   "metadata": {
    "collapsed": false
   },
   "outputs": [
    {
     "data": {
      "text/plain": [
       "(240, 6)"
      ]
     },
     "execution_count": 19,
     "metadata": {},
     "output_type": "execute_result"
    }
   ],
   "source": [
    "df_kr.shape"
   ]
  },
  {
   "cell_type": "code",
   "execution_count": 20,
   "metadata": {
    "collapsed": true
   },
   "outputs": [],
   "source": [
    "wikis_kr= df_kr['url_wiki'].tolist()"
   ]
  },
  {
   "cell_type": "code",
   "execution_count": 21,
   "metadata": {
    "collapsed": true
   },
   "outputs": [],
   "source": [
    "#scraping movie plots : list of wiki plots for KR top movies\n",
    "plots_kr =[]\n",
    "for wiki in wikis_kr:\n",
    "    soup = BeautifulSoup(urllib2.urlopen(wiki))\n",
    "    hs = soup.find_all('h2')\n",
    "    ps = hs[1].find_next_siblings()\n",
    "    contents_kr=[]\n",
    "    for section in ps:\n",
    "        content = u\"\"\n",
    "        if section.name=='h2':\n",
    "            break\n",
    "        content +=unicode(section)\n",
    "        contents_kr.append(content)\n",
    "    plots_kr.append(contents_kr)"
   ]
  },
  {
   "cell_type": "code",
   "execution_count": 22,
   "metadata": {
    "collapsed": false
   },
   "outputs": [
    {
     "data": {
      "text/plain": [
       "240"
      ]
     },
     "execution_count": 22,
     "metadata": {},
     "output_type": "execute_result"
    }
   ],
   "source": [
    "len(plots_kr)"
   ]
  },
  {
   "cell_type": "code",
   "execution_count": 23,
   "metadata": {
    "collapsed": false
   },
   "outputs": [
    {
     "data": {
      "text/html": [
       "<div>\n",
       "<table border=\"1\" class=\"dataframe\">\n",
       "  <thead>\n",
       "    <tr style=\"text-align: right;\">\n",
       "      <th></th>\n",
       "      <th>year</th>\n",
       "      <th>country</th>\n",
       "      <th>movie</th>\n",
       "      <th>source</th>\n",
       "      <th>origin</th>\n",
       "      <th>url_wiki</th>\n",
       "      <th>wiki_plot</th>\n",
       "    </tr>\n",
       "  </thead>\n",
       "  <tbody>\n",
       "    <tr>\n",
       "      <th>0</th>\n",
       "      <td>2014</td>\n",
       "      <td>KR</td>\n",
       "      <td>Myeong-ryang (The Admiral:Roaring Currents)</td>\n",
       "      <td>boxofficemojo</td>\n",
       "      <td>South Korea</td>\n",
       "      <td>https://en.wikipedia.org/wiki/The_Admiral:_Roa...</td>\n",
       "      <td>[&lt;p&gt;The film revolves around the titular &lt;a hr...</td>\n",
       "    </tr>\n",
       "    <tr>\n",
       "      <th>1</th>\n",
       "      <td>2014</td>\n",
       "      <td>KR</td>\n",
       "      <td>Ode to My Father</td>\n",
       "      <td>boxofficemojo</td>\n",
       "      <td>South Korea</td>\n",
       "      <td>https://en.wikipedia.org/wiki/Ode_to_My_Father</td>\n",
       "      <td>[&lt;p&gt;During the &lt;a class=\"mw-redirect\" href=\"/w...</td>\n",
       "    </tr>\n",
       "    <tr>\n",
       "      <th>2</th>\n",
       "      <td>2014</td>\n",
       "      <td>KR</td>\n",
       "      <td>Frozen (2013)</td>\n",
       "      <td>boxofficemojo</td>\n",
       "      <td>United States</td>\n",
       "      <td>https://en.wikipedia.org/wiki/Frozen_(2013_film)</td>\n",
       "      <td>[&lt;p&gt;&lt;a href=\"/wiki/Elsa_(Disney)\" title=\"Elsa ...</td>\n",
       "    </tr>\n",
       "    <tr>\n",
       "      <th>3</th>\n",
       "      <td>2014</td>\n",
       "      <td>KR</td>\n",
       "      <td>Interstellar</td>\n",
       "      <td>boxofficemojo</td>\n",
       "      <td>United States,United Kingdom</td>\n",
       "      <td>https://en.wikipedia.org/wiki/Interstellar_(film)</td>\n",
       "      <td>[&lt;p&gt;Widespread catastrophic crop &lt;a href=\"/wik...</td>\n",
       "    </tr>\n",
       "    <tr>\n",
       "      <th>4</th>\n",
       "      <td>2014</td>\n",
       "      <td>KR</td>\n",
       "      <td>The Pirates (2014)</td>\n",
       "      <td>boxofficemojo</td>\n",
       "      <td>South Korea</td>\n",
       "      <td>https://en.wikipedia.org/wiki/The_Pirates_(201...</td>\n",
       "      <td>[&lt;p&gt;On the eve of the founding of the &lt;a class...</td>\n",
       "    </tr>\n",
       "  </tbody>\n",
       "</table>\n",
       "</div>"
      ],
      "text/plain": [
       "   year country                                        movie         source                        origin                                           url_wiki                                          wiki_plot\n",
       "0  2014      KR  Myeong-ryang (The Admiral:Roaring Currents)  boxofficemojo                   South Korea  https://en.wikipedia.org/wiki/The_Admiral:_Roa...  [<p>The film revolves around the titular <a hr...\n",
       "1  2014      KR                             Ode to My Father  boxofficemojo                   South Korea     https://en.wikipedia.org/wiki/Ode_to_My_Father  [<p>During the <a class=\"mw-redirect\" href=\"/w...\n",
       "2  2014      KR                                Frozen (2013)  boxofficemojo                 United States   https://en.wikipedia.org/wiki/Frozen_(2013_film)  [<p><a href=\"/wiki/Elsa_(Disney)\" title=\"Elsa ...\n",
       "3  2014      KR                                 Interstellar  boxofficemojo  United States,United Kingdom  https://en.wikipedia.org/wiki/Interstellar_(film)  [<p>Widespread catastrophic crop <a href=\"/wik...\n",
       "4  2014      KR                           The Pirates (2014)  boxofficemojo                   South Korea  https://en.wikipedia.org/wiki/The_Pirates_(201...  [<p>On the eve of the founding of the <a class..."
      ]
     },
     "execution_count": 23,
     "metadata": {},
     "output_type": "execute_result"
    }
   ],
   "source": [
    "#add plots_us to column 'wiki_plot' in the original dataframe \n",
    "df_kr['wiki_plot'] = pd.Series(plots_kr, index=df_kr.index)\n",
    "df_kr.head(5)"
   ]
  },
  {
   "cell_type": "code",
   "execution_count": 24,
   "metadata": {
    "collapsed": false
   },
   "outputs": [
    {
     "data": {
      "text/html": [
       "<div>\n",
       "<table border=\"1\" class=\"dataframe\">\n",
       "  <thead>\n",
       "    <tr style=\"text-align: right;\">\n",
       "      <th></th>\n",
       "      <th>year</th>\n",
       "      <th>country</th>\n",
       "      <th>movie</th>\n",
       "      <th>source</th>\n",
       "      <th>origin</th>\n",
       "      <th>url_wiki</th>\n",
       "    </tr>\n",
       "  </thead>\n",
       "  <tbody>\n",
       "    <tr>\n",
       "      <th>0</th>\n",
       "      <td>2014</td>\n",
       "      <td>UK</td>\n",
       "      <td>The Hobbit: The Battle of the Five Armies</td>\n",
       "      <td>boxofficemojo</td>\n",
       "      <td>New Zealand,United States</td>\n",
       "      <td>https://en.wikipedia.org/wiki/The_Hobbit:_The_...</td>\n",
       "    </tr>\n",
       "    <tr>\n",
       "      <th>1</th>\n",
       "      <td>2014</td>\n",
       "      <td>UK</td>\n",
       "      <td>Paddington</td>\n",
       "      <td>boxofficemojo</td>\n",
       "      <td>United Kingdom, France</td>\n",
       "      <td>https://en.wikipedia.org/wiki/Paddington_(film)</td>\n",
       "    </tr>\n",
       "    <tr>\n",
       "      <th>2</th>\n",
       "      <td>2014</td>\n",
       "      <td>UK</td>\n",
       "      <td>The Lego Movie</td>\n",
       "      <td>boxofficemojo</td>\n",
       "      <td>United States, Australia,Denmark</td>\n",
       "      <td>https://en.wikipedia.org/wiki/The_Lego_Movie</td>\n",
       "    </tr>\n",
       "    <tr>\n",
       "      <th>3</th>\n",
       "      <td>2014</td>\n",
       "      <td>UK</td>\n",
       "      <td>The Inbetweeners 2</td>\n",
       "      <td>boxofficemojo</td>\n",
       "      <td>United Kingdom</td>\n",
       "      <td>https://en.wikipedia.org/wiki/The_Inbetweeners_2</td>\n",
       "    </tr>\n",
       "    <tr>\n",
       "      <th>4</th>\n",
       "      <td>2014</td>\n",
       "      <td>UK</td>\n",
       "      <td>Dawn of the Planet of the Apes</td>\n",
       "      <td>boxofficemojo</td>\n",
       "      <td>United States</td>\n",
       "      <td>https://en.wikipedia.org/wiki/Dawn_of_the_Plan...</td>\n",
       "    </tr>\n",
       "  </tbody>\n",
       "</table>\n",
       "</div>"
      ],
      "text/plain": [
       "   year country                                      movie         source                            origin                                           url_wiki\n",
       "0  2014      UK  The Hobbit: The Battle of the Five Armies  boxofficemojo         New Zealand,United States  https://en.wikipedia.org/wiki/The_Hobbit:_The_...\n",
       "1  2014      UK                                 Paddington  boxofficemojo            United Kingdom, France    https://en.wikipedia.org/wiki/Paddington_(film)\n",
       "2  2014      UK                             The Lego Movie  boxofficemojo  United States, Australia,Denmark       https://en.wikipedia.org/wiki/The_Lego_Movie\n",
       "3  2014      UK                         The Inbetweeners 2  boxofficemojo                    United Kingdom   https://en.wikipedia.org/wiki/The_Inbetweeners_2\n",
       "4  2014      UK             Dawn of the Planet of the Apes  boxofficemojo                     United States  https://en.wikipedia.org/wiki/Dawn_of_the_Plan..."
      ]
     },
     "execution_count": 24,
     "metadata": {},
     "output_type": "execute_result"
    }
   ],
   "source": [
    "#popular movies in UK(top 50 movies for each of 2010~2014)\n",
    "df_uk=pd.read_csv(\"UK.csv\")\n",
    "df_uk.head(5)"
   ]
  },
  {
   "cell_type": "code",
   "execution_count": 25,
   "metadata": {
    "collapsed": false
   },
   "outputs": [
    {
     "data": {
      "text/plain": [
       "(248, 6)"
      ]
     },
     "execution_count": 25,
     "metadata": {},
     "output_type": "execute_result"
    }
   ],
   "source": [
    "df_uk.shape"
   ]
  },
  {
   "cell_type": "code",
   "execution_count": 26,
   "metadata": {
    "collapsed": true
   },
   "outputs": [],
   "source": [
    "wikis_uk= df_uk['url_wiki'].tolist()"
   ]
  },
  {
   "cell_type": "code",
   "execution_count": 27,
   "metadata": {
    "collapsed": true
   },
   "outputs": [],
   "source": [
    "#scraping movie plots : list of wiki plots for UK top movies\n",
    "plots_uk =[]\n",
    "for wiki in wikis_uk:\n",
    "    soup = BeautifulSoup(urllib2.urlopen(wiki))\n",
    "    hs = soup.find_all('h2')\n",
    "    ps = hs[1].find_next_siblings()\n",
    "    contents_uk=[]\n",
    "    for section in ps:\n",
    "        content = u\"\"\n",
    "        if section.name=='h2':\n",
    "            break\n",
    "        content +=unicode(section)\n",
    "        contents_uk.append(content)\n",
    "    plots_uk.append(contents_uk)"
   ]
  },
  {
   "cell_type": "code",
   "execution_count": 28,
   "metadata": {
    "collapsed": false
   },
   "outputs": [
    {
     "data": {
      "text/plain": [
       "248"
      ]
     },
     "execution_count": 28,
     "metadata": {},
     "output_type": "execute_result"
    }
   ],
   "source": [
    "len(plots_uk)"
   ]
  },
  {
   "cell_type": "code",
   "execution_count": 29,
   "metadata": {
    "collapsed": false,
    "scrolled": true
   },
   "outputs": [
    {
     "data": {
      "text/html": [
       "<div>\n",
       "<table border=\"1\" class=\"dataframe\">\n",
       "  <thead>\n",
       "    <tr style=\"text-align: right;\">\n",
       "      <th></th>\n",
       "      <th>year</th>\n",
       "      <th>country</th>\n",
       "      <th>movie</th>\n",
       "      <th>source</th>\n",
       "      <th>origin</th>\n",
       "      <th>url_wiki</th>\n",
       "      <th>wiki_plot</th>\n",
       "    </tr>\n",
       "  </thead>\n",
       "  <tbody>\n",
       "    <tr>\n",
       "      <th>0</th>\n",
       "      <td>2014</td>\n",
       "      <td>UK</td>\n",
       "      <td>The Hobbit: The Battle of the Five Armies</td>\n",
       "      <td>boxofficemojo</td>\n",
       "      <td>New Zealand,United States</td>\n",
       "      <td>https://en.wikipedia.org/wiki/The_Hobbit:_The_...</td>\n",
       "      <td>[&lt;p&gt;&lt;a href=\"/wiki/Bilbo_Baggins\" title=\"Bilbo...</td>\n",
       "    </tr>\n",
       "    <tr>\n",
       "      <th>1</th>\n",
       "      <td>2014</td>\n",
       "      <td>UK</td>\n",
       "      <td>Paddington</td>\n",
       "      <td>boxofficemojo</td>\n",
       "      <td>United Kingdom, France</td>\n",
       "      <td>https://en.wikipedia.org/wiki/Paddington_(film)</td>\n",
       "      <td>[&lt;p&gt;In the deep jungles of darkest &lt;a href=\"/w...</td>\n",
       "    </tr>\n",
       "    <tr>\n",
       "      <th>2</th>\n",
       "      <td>2014</td>\n",
       "      <td>UK</td>\n",
       "      <td>The Lego Movie</td>\n",
       "      <td>boxofficemojo</td>\n",
       "      <td>United States, Australia,Denmark</td>\n",
       "      <td>https://en.wikipedia.org/wiki/The_Lego_Movie</td>\n",
       "      <td>[&lt;p&gt;In the &lt;a href=\"/wiki/Lego\" title=\"Lego\"&gt;L...</td>\n",
       "    </tr>\n",
       "    <tr>\n",
       "      <th>3</th>\n",
       "      <td>2014</td>\n",
       "      <td>UK</td>\n",
       "      <td>The Inbetweeners 2</td>\n",
       "      <td>boxofficemojo</td>\n",
       "      <td>United Kingdom</td>\n",
       "      <td>https://en.wikipedia.org/wiki/The_Inbetweeners_2</td>\n",
       "      <td>[&lt;p&gt;&lt;a class=\"mw-redirect\" href=\"/wiki/Will_Mc...</td>\n",
       "    </tr>\n",
       "    <tr>\n",
       "      <th>4</th>\n",
       "      <td>2014</td>\n",
       "      <td>UK</td>\n",
       "      <td>Dawn of the Planet of the Apes</td>\n",
       "      <td>boxofficemojo</td>\n",
       "      <td>United States</td>\n",
       "      <td>https://en.wikipedia.org/wiki/Dawn_of_the_Plan...</td>\n",
       "      <td>[&lt;p&gt;Ten years after the worldwide pandemic of ...</td>\n",
       "    </tr>\n",
       "  </tbody>\n",
       "</table>\n",
       "</div>"
      ],
      "text/plain": [
       "   year country                                      movie         source                            origin                                           url_wiki                                          wiki_plot\n",
       "0  2014      UK  The Hobbit: The Battle of the Five Armies  boxofficemojo         New Zealand,United States  https://en.wikipedia.org/wiki/The_Hobbit:_The_...  [<p><a href=\"/wiki/Bilbo_Baggins\" title=\"Bilbo...\n",
       "1  2014      UK                                 Paddington  boxofficemojo            United Kingdom, France    https://en.wikipedia.org/wiki/Paddington_(film)  [<p>In the deep jungles of darkest <a href=\"/w...\n",
       "2  2014      UK                             The Lego Movie  boxofficemojo  United States, Australia,Denmark       https://en.wikipedia.org/wiki/The_Lego_Movie  [<p>In the <a href=\"/wiki/Lego\" title=\"Lego\">L...\n",
       "3  2014      UK                         The Inbetweeners 2  boxofficemojo                    United Kingdom   https://en.wikipedia.org/wiki/The_Inbetweeners_2  [<p><a class=\"mw-redirect\" href=\"/wiki/Will_Mc...\n",
       "4  2014      UK             Dawn of the Planet of the Apes  boxofficemojo                     United States  https://en.wikipedia.org/wiki/Dawn_of_the_Plan...  [<p>Ten years after the worldwide pandemic of ..."
      ]
     },
     "execution_count": 29,
     "metadata": {},
     "output_type": "execute_result"
    }
   ],
   "source": [
    "#add plots_us to column 'wiki_plot' in the original dataframe \n",
    "df_uk['wiki_plot'] = pd.Series(plots_uk, index=df_uk.index)\n",
    "df_uk.head(5)"
   ]
  },
  {
   "cell_type": "code",
   "execution_count": 30,
   "metadata": {
    "collapsed": true
   },
   "outputs": [],
   "source": [
    "#save 4 dataframes as csv \n",
    "df_us.to_csv(\"df_us.csv\", index=False)\n",
    "df_ge.to_csv(\"df_ge.csv\", index=False)\n",
    "df_uk.to_csv(\"df_uk.csv\", index=False)\n",
    "df_kr.to_csv(\"df_kr.csv\", index=False)"
   ]
  },
  {
   "cell_type": "code",
   "execution_count": null,
   "metadata": {
    "collapsed": true
   },
   "outputs": [],
   "source": [
    "#cleaning the plots text : remove tags like <p>, </p> \n"
   ]
  },
  {
   "cell_type": "code",
   "execution_count": null,
   "metadata": {
    "collapsed": true
   },
   "outputs": [],
   "source": [
    "#add popularity measures : dvd sales data\n"
   ]
  },
  {
   "cell_type": "code",
   "execution_count": null,
   "metadata": {
    "collapsed": true
   },
   "outputs": [],
   "source": [
    "#merge 4 dataframes into 1 dataframe\n"
   ]
  }
 ],
 "metadata": {
  "kernelspec": {
   "display_name": "Python 2",
   "language": "python",
   "name": "python2"
  },
  "language_info": {
   "codemirror_mode": {
    "name": "ipython",
    "version": 2
   },
   "file_extension": ".py",
   "mimetype": "text/x-python",
   "name": "python",
   "nbconvert_exporter": "python",
   "pygments_lexer": "ipython2",
   "version": "2.7.10"
  }
 },
 "nbformat": 4,
 "nbformat_minor": 0
}
